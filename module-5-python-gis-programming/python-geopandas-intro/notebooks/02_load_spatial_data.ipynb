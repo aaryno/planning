{
 "cells": [
  {
   "cell_type": "markdown",
   "id": "f47ea4d9-8c5a-4b9f-8e9b-2a1c7f3d8e8b",
   "metadata": {},
   "source": [
    "# 📂 Loading Spatial Data - Your Data Loading Toolkit\n",
    "\n",
    "**GIST 604B - Python GeoPandas Introduction**  \n",
    "**Notebook 2: Mastering Spatial Data Loading**\n",
    "\n",
    "---\n",
    "\n",
    "## 🎯 Learning Objectives\n",
    "\n",
    "By the end of this notebook, you will be able to:\n",
    "- Load spatial data from different file formats (Shapefile, GeoJSON, GeoPackage)\n",
    "- Handle common loading issues (encoding, missing files, corrupted data)\n",
    "- Load spatial data from URLs and compressed files\n",
    "- Understand the structure of different spatial data formats\n",
    "- Implement the `load_spatial_dataset()` function\n",
    "\n",
    "## 📁 Common Spatial Data Formats Deep Dive\n",
    "\n",
    "Let's explore each major spatial data format and learn how to work with them..."
   ]
  },
  {
   "cell_type": "code",
   "execution_count": null,
   "id": "setup-cell",
   "metadata": {},
   "outputs": [],
   "source": [
    "# Import necessary libraries\n",
    "import geopandas as gpd\n",
    "import pandas as pd\n",
    "import numpy as np\n",
    "from pathlib import Path\n",
    "import os\n",
    "import warnings\n",
    "warnings.filterwarnings('ignore')\n",
    "\n",
    "print(\"📦 Libraries loaded successfully!\")\n",
    "print(f\"🐼 GeoPandas version: {gpd.__version__}\")"
   ]
  },
  {
   "cell_type": "markdown",
   "id": "a2b5c8f1-9e3d-4c2f-8e9b-3a1c7f2d9e4a",
   "metadata": {},
   "source": [
    "## 🗂️ Format 1: Shapefile (.shp) - The GIS Classic\n",
    "\n",
    "Shapefiles are the most common vector format in GIS. They're actually composed of multiple files:\n",
    "- `.shp` - Main geometry file\n",
    "- `.shx` - Index file\n",
    "- `.dbf` - Attribute data\n",
    "- `.prj` - Projection information\n",
    "- Others: `.sbn`, `.sbx`, `.fbn`, `.fbx`, `.ain`, `.aih`, `.cpg`\n",
    "\n",
    "**Key characteristics:**\n",
    "- Binary format (not human-readable)\n",
    "- Widely supported by all GIS software\n",
    "- Limited to 2GB file size\n",
    "- Column names limited to 10 characters\n",
    "- Only one geometry type per file"
   ]
  },
  {
   "cell_type": "code",
   "execution_count": null,
   "id": "shapefile-example",
   "metadata": {},
   "outputs": [],
   "source": [
    "# TODO: Load a shapefile and explore its structure\n",
    "# Example code will go here for loading shapefiles\n",
    "pass"
   ]
  },
  {
   "cell_type": "markdown",
   "id": "b3c4d8f2-1e4d-4c5f-9e8b-4a2c7f3d8e5c",
   "metadata": {},
   "source": [
    "## 🌐 Format 2: GeoJSON (.geojson, .json) - The Web Standard\n",
    "\n",
    "GeoJSON is a text-based format that's perfect for web applications:\n",
    "\n",
    "**Key characteristics:**\n",
    "- Human-readable text format (JSON-based)\n",
    "- Single file contains everything\n",
    "- Perfect for web mapping\n",
    "- Supports multiple geometry types in one file\n",
    "- Can be large for complex datasets\n",
    "- Always uses WGS84 coordinate system (EPSG:4326)"
   ]
  },
  {
   "cell_type": "code",
   "execution_count": null,
   "id": "geojson-example",
   "metadata": {},
   "outputs": [],
   "source": [
    "# TODO: Load a GeoJSON file and compare with shapefile\n",
    "# Example code will go here for loading GeoJSON\n",
    "pass"
   ]
  },
  {
   "cell_type": "markdown",
   "id": "c4d5e8f3-2e5d-4b6f-7e8c-5a3c8f4d9e6d",
   "metadata": {},
   "source": [
    "## 📦 Format 3: GeoPackage (.gpkg) - The Modern Choice\n",
    "\n",
    "GeoPackage is a modern, SQLite-based spatial format:\n",
    "\n",
    "**Key characteristics:**\n",
    "- Based on SQLite database\n",
    "- Single file, no size limitations\n",
    "- Can store multiple layers\n",
    "- Supports raster and vector data\n",
    "- Open standard (OGC approved)\n",
    "- Cross-platform compatibility"
   ]
  },
  {
   "cell_type": "code",
   "execution_count": null,
   "id": "geopackage-example",
   "metadata": {},
   "outputs": [],
   "source": [
    "# TODO: Load a GeoPackage and explore multiple layers\n",
    "# Example code will go here for loading GeoPackage\n",
    "pass"
   ]
  },
  {
   "cell_type": "markdown",
   "id": "d6e7f4g5-3f6e-4c7f-8f9c-6a4c8f5d0e7e",
   "metadata": {},
   "source": [
    "## 🛠️ Handling Common Loading Issues\n",
    "\n",
    "Real-world spatial data often has problems. Let's learn to handle them gracefully..."
   ]
  },
  {
   "cell_type": "markdown",
   "id": "e8f6g7h8-4g7h-5d8i-9f0e-7b5c9f6e1f8g",
   "metadata": {},
   "source": [
    "### Issue 1: File Not Found Errors"
   ]
  },
  {
   "cell_type": "code",
   "execution_count": null,
   "id": "file-not-found-example",
   "metadata": {},
   "outputs": [],
   "source": [
    "# TODO: Demonstrate proper file path handling and error checking\n",
    "pass"
   ]
  },
  {
   "cell_type": "markdown",
   "id": "f9g0h1i2-5h8i-6e9j-af1f-8c6d0f7e2f9a",
   "metadata": {},
   "source": [
    "### Issue 2: Encoding Problems"
   ]
  },
  {
   "cell_type": "code",
   "execution_count": null,
   "id": "encoding-example",
   "metadata": {},
   "outputs": [],
   "source": [
    "# TODO: Show how to handle different text encodings\n",
    "pass"
   ]
  },
  {
   "cell_type": "markdown",
   "id": "g0h1i2j3-6i9j-7f0k-bf2g-9d7e1f8e3f0b",
   "metadata": {},
   "source": [
    "### Issue 3: Corrupted or Invalid Files"
   ]
  },
  {
   "cell_type": "code",
   "execution_count": null,
   "id": "corrupted-file-example",
   "metadata": {},
   "outputs": [],
   "source": [
    "# TODO: Demonstrate graceful handling of corrupted files\n",
    "pass"
   ]
  },
  {
   "cell_type": "markdown",
   "id": "h1i2j3k4-7j0k-8g1l-cg3h-ae8f2f9e4g1c",
   "metadata": {},
   "source": [
    "## 🌐 Loading Data from URLs\n",
    "\n",
    "Sometimes you need to load spatial data directly from the web..."
   ]
  },
  {
   "cell_type": "code",
   "execution_count": null,
   "id": "url-loading-example",
   "metadata": {},
   "outputs": [],
   "source": [
    "# TODO: Show how to load spatial data from URLs\n",
    "pass"
   ]
  },
  {
   "cell_type": "markdown",
   "id": "i2j3k4l5-8k1l-9h2m-dh4i-bf9f3f0e5h2d",
   "metadata": {},
   "source": [
    "## 📦 Working with Compressed Files\n",
    "\n",
    "Spatial data is often compressed to save space and bandwidth..."
   ]
  },
  {
   "cell_type": "code",
   "execution_count": null,
   "id": "compressed-example",
   "metadata": {},
   "outputs": [],
   "source": [
    "# TODO: Demonstrate loading from ZIP files and other compressed formats\n",
    "pass"
   ]
  },
  {
   "cell_type": "markdown",
   "id": "j3k4l5m6-9l2m-0i3n-ei5j-cg0f4f1e6i3e",
   "metadata": {},
   "source": [
    "## 🛠️ Building Your load_spatial_dataset() Function\n",
    "\n",
    "Now let's put it all together and build a robust function for loading spatial data..."
   ]
  },
  {
   "cell_type": "code",
   "execution_count": null,
   "id": "function-template",
   "metadata": {},
   "outputs": [],
   "source": [
    "# TODO: Step-by-step implementation guide for load_spatial_dataset()\n",
    "# This will walk through each requirement and provide working examples\n",
    "pass"
   ]
  },
  {
   "cell_type": "markdown",
   "id": "k4l5m6n7-0m3n-1j4o-fj6k-dh1f5f2e7j4f",
   "metadata": {},
   "source": [
    "## 🧪 Testing Your Implementation\n",
    "\n",
    "Let's test our function with different scenarios..."
   ]
  },
  {
   "cell_type": "code",
   "execution_count": null,
   "id": "testing-examples",
   "metadata": {},
   "outputs": [],
   "source": [
    "# TODO: Test cases for the function\n",
    "pass"
   ]
  },
  {
   "cell_type": "markdown",
   "id": "l5m6n7o8-1n4o-2k5p-gk7l-eh2f6f3e8k5g",
   "metadata": {},
   "source": [
    "## 🎯 Key Takeaways\n",
    "\n",
    "After completing this notebook, you should understand:\n",
    "\n",
    "✅ **Different spatial formats** - When to use Shapefile vs GeoJSON vs GeoPackage  \n",
    "✅ **Error handling** - How to gracefully handle loading problems  \n",
    "✅ **File path management** - Using Path objects for better path handling  \n",
    "✅ **Format detection** - How to identify file types automatically  \n",
    "✅ **Validation** - Checking that loaded data is valid  \n",
    "\n",
    "## 📚 Next Steps\n",
    "\n",
    "1. **Implement** your `load_spatial_dataset()` function in `src/spatial_basics.py`\n",
    "2. **Test** your implementation with `uv run pytest tests/ -k \"load_spatial_dataset\" -v`\n",
    "3. **Move on** to `03_explore_properties.ipynb` to learn about spatial data exploration\n",
    "\n",
    "---\n",
    "\n",
    "*Remember: Good data loading is the foundation of all spatial analysis. Take time to build robust loading functions that handle real-world data problems gracefully!* 🌟"
   ]
  }
 ],
 "metadata": {
  "kernelspec": {
   "display_name": "Python 3 (ipykernel)",
   "language": "python",
   "name": "python3"
  },
  "language_info": {
   "codemirror_mode": {
    "name": "ipython",
    "version": 3
   },
   "file_extension": ".py",
   "mimetype": "text/x-python",
   "name": "python",
   "nbconvert_exporter": "python",
   "version": "3.11.5"
  }
 },
 "nbformat": 4,
 "nbformat_minor": 5
}
