{
 "cells": [
  {
   "cell_type": "markdown",
   "id": "f47ea4d9-8c5a-4b9f-8e9b-2a1c7f3d8e8b",
   "metadata": {},
   "source": [
    "# 🔗 Spatial Joins & Analysis - Connecting Data Through Location\n",
    "\n",
    "**GIST 604B - Python GeoPandas Analysis**  \n",
    "**Notebook 3: Mastering Spatial Relationships and Analysis**\n",
    "\n",
    "---\n",
    "\n",
    "## 🎯 Learning Objectives\n",
    "\n",
    "By the end of this notebook, you will be able to:\n",
    "- Perform spatial joins to find relationships between datasets\n",
    "- Execute different types of spatial intersections (intersects, within, contains)\n",
    "- Aggregate spatial data by geographic groups and boundaries\n",
    "- Apply complex multi-criteria filters combining spatial and attribute conditions\n",
    "- Build complete spatial analysis workflows using multiple operations\n",
    "- Implement the three spatial analysis functions professionally\n",
    "\n",
    "## 🌍 Why Spatial Relationships Matter\n",
    "\n",
    "The power of GIS comes from understanding **where things are in relation to other things**:\n",
    "- **Which cities are in flood zones?** - Point-in-polygon analysis\n",
    "- **How many people live near hospitals?** - Proximity and aggregation\n",
    "- **What roads cross protected areas?** - Line-polygon intersection\n",
    "- **Which counties have high pollution AND low income?** - Multi-criteria analysis\n",
    "\n",
    "**Spatial relationships reveal patterns that attributes alone cannot show!**"
   ]
  },
  {
   "cell_type": "code",
   "execution_count": null,
   "id": "setup-cell",
   "metadata": {},
   "outputs": [],
   "source": [
    "# Import necessary libraries for spatial analysis\n",
    "import geopandas as gpd\n",
    "import pandas as pd\n",
    "import numpy as np\n",
    "import matplotlib.pyplot as plt\n",
    "from shapely.geometry import Point, Polygon, LineString\n",
    "from shapely.ops import unary_union\n",
    "import warnings\n",
    "warnings.filterwarnings('ignore')\n",
    "\n",
    "print(\"🔗 Spatial analysis toolkit loaded!\")\n",
    "print(f\"🐼 GeoPandas version: {gpd.__version__}\")\n",
    "print(\"✅ Ready for spatial relationships analysis!\")"
   ]
  },
  {
   "cell_type": "markdown",
   "id": "a2b5c8f1-9e3d-4c2f-8e9b-3a1c7f2d9e4a",
   "metadata": {},
   "source": [
    "## 🎯 Function 4: Spatial Intersections and Joins\n",
    "\n",
    "Finding features that have spatial relationships with other features..."
   ]
  },
  {
   "cell_type": "code",
   "execution_count": null,
   "id": "sample-data-creation",
   "metadata": {},
   "outputs": [],
   "source": [
    "# TODO: Create sample datasets for spatial join demonstrations\n",
    "# - Cities (points) and watersheds (polygons)\n",
    "# - Roads (lines) and administrative boundaries (polygons)\n",
    "# - Monitoring stations and environmental zones\n",
    "# - Ensure different CRS scenarios for testing\n",
    "pass"
   ]
  },
  {
   "cell_type": "markdown",
   "id": "b3c4d8f2-1e4d-4c5f-9e8b-4a2c7f3d8e5c",
   "metadata": {},
   "source": [
    "### Understanding Spatial Predicates\n",
    "\n",
    "The different ways features can be spatially related..."
   ]
  },
  {
   "cell_type": "code",
   "execution_count": null,
   "id": "spatial-predicates",
   "metadata": {},
   "outputs": [],
   "source": [
    "# TODO: Explain and visualize spatial predicates\n",
    "# - Intersects: Any overlap or touching\n",
    "# - Within: Completely inside another feature\n",
    "# - Contains: Completely contains another feature\n",
    "# - Crosses: Lines crossing polygon boundaries\n",
    "# - Touches: Adjacent but not overlapping\n",
    "# - Overlaps: Partial overlap\n",
    "pass"
   ]
  },
  {
   "cell_type": "markdown",
   "id": "c4d5e8f3-2e5d-4b6f-7e8c-5a3c8f4d9e6d",
   "metadata": {},
   "source": [
    "### Point-in-Polygon Analysis\n",
    "\n",
    "The most common spatial analysis: finding which polygon contains each point..."
   ]
  },
  {
   "cell_type": "code",
   "execution_count": null,
   "id": "point-in-polygon",
   "metadata": {},
   "outputs": [],
   "source": [
    "# TODO: Demonstrate point-in-polygon analysis\n",
    "# - Cities within states/counties\n",
    "# - Monitoring stations within watersheds\n",
    "# - GPS points within administrative boundaries\n",
    "# - Handle edge cases (points on boundaries)\n",
    "pass"
   ]
  },
  {
   "cell_type": "markdown",
   "id": "d6e7f4g5-3f6e-4c7f-8f9c-6a4c8f5d0e7e",
   "metadata": {},
   "source": [
    "### Polygon Intersection Analysis\n",
    "\n",
    "Finding overlapping areas between polygon datasets..."
   ]
  },
  {
   "cell_type": "code",
   "execution_count": null,
   "id": "polygon-intersection",
   "metadata": {},
   "outputs": [],
   "source": [
    "# TODO: Demonstrate polygon intersection analysis\n",
    "# - Land use categories overlapping with flood zones\n",
    "# - Protected areas intersecting with development zones\n",
    "# - Calculate intersection areas and percentages\n",
    "# - Visualize overlapping regions\n",
    "pass"
   ]
  },
  {
   "cell_type": "markdown",
   "id": "e8f6g7h8-4g7h-5d8i-9f0e-7b5c9f6e1f8g",
   "metadata": {},
   "source": [
    "### Line-Polygon Relationships\n",
    "\n",
    "Analyzing how linear features interact with areal features..."
   ]
  },
  {
   "cell_type": "code",
   "execution_count": null,
   "id": "line-polygon-analysis",
   "metadata": {},
   "outputs": [],
   "source": [
    "# TODO: Demonstrate line-polygon relationships\n",
    "# - Roads crossing administrative boundaries\n",
    "# - Rivers flowing through different land use areas\n",
    "# - Utility lines intersecting environmental zones\n",
    "# - Calculate crossing lengths and intersection points\n",
    "pass"
   ]
  },
  {
   "cell_type": "markdown",
   "id": "f9g0h1i2-5h8i-6e9j-af1f-8c6d0f7e2f9a",
   "metadata": {},
   "source": [
    "### Handling CRS Compatibility in Spatial Joins\n",
    "\n",
    "Ensuring accurate spatial relationships across different coordinate systems..."
   ]
  },
  {
   "cell_type": "code",
   "execution_count": null,
   "id": "crs-compatibility",
   "metadata": {},
   "outputs": [],
   "source": [
    "# TODO: Demonstrate CRS handling in spatial joins\n",
    "# - Detecting CRS mismatches\n",
    "# - Automatic reprojection strategies\n",
    "# - Performance implications of reprojection\n",
    "# - Validation of join results\n",
    "pass"
   ]
  },
  {
   "cell_type": "markdown",
   "id": "g0h1i2j3-6i9j-7f0k-bf2g-9d7e1f8e3f0b",
   "metadata": {},
   "source": [
    "### Implementing execute_spatial_intersection()\n",
    "\n",
    "Building a robust spatial intersection function..."
   ]
  },
  {
   "cell_type": "code",
   "execution_count": null,
   "id": "spatial-intersection-implementation",
   "metadata": {},
   "outputs": [],
   "source": [
    "# TODO: Step-by-step implementation guide for execute_spatial_intersection()\n",
    "# Handle all spatial predicates and edge cases\n",
    "pass"
   ]
  },
  {
   "cell_type": "markdown",
   "id": "h1i2j3k4-7j0k-8g1l-cg3h-ae8f2f9e4g1c",
   "metadata": {},
   "source": [
    "## 📊 Function 5: Spatial Data Aggregation\n",
    "\n",
    "Summarizing data by geographic groups and boundaries..."
   ]
  },
  {
   "cell_type": "markdown",
   "id": "i2j3k4l5-8k1l-9h2m-dh4i-bf9f3f0e5h2d",
   "metadata": {},
   "source": [
    "### Attribute-Based Aggregation\n",
    "\n",
    "Grouping features by shared attribute values..."
   ]
  },
  {
   "cell_type": "code",
   "execution_count": null,
   "id": "attribute-aggregation",
   "metadata": {},
   "outputs": [],
   "source": [
    "# TODO: Demonstrate attribute-based spatial aggregation\n",
    "# - Group cities by state, calculate total population\n",
    "# - Group land parcels by zoning type, calculate total area\n",
    "# - Handle different aggregation functions (sum, mean, count, etc.)\n",
    "# - Aggregate geometries (union, dissolve)\n",
    "pass"
   ]
  },
  {
   "cell_type": "markdown",
   "id": "j3k4l5m6-9l2m-0i3n-ei5j-cg0f4f1e6i3e",
   "metadata": {},
   "source": [
    "### Spatial Aggregation by Geographic Boundaries\n",
    "\n",
    "Summarizing point data within polygon boundaries..."
   ]
  },
  {
   "cell_type": "code",
   "execution_count": null,
   "id": "spatial-aggregation",
   "metadata": {},
   "outputs": [],
   "source": [
    "# TODO: Demonstrate spatial aggregation\n",
    "# - Aggregate monitoring station data by watersheds\n",
    "# - Summarize crime incidents by police districts\n",
    "# - Calculate statistics for points within polygons\n",
    "# - Handle empty aggregation groups\n",
    "pass"
   ]
  },
  {
   "cell_type": "markdown",
   "id": "k4l5m6n7-0m3n-1j4o-fj6k-dh1f5f2e7j4f",
   "metadata": {},
   "source": [
    "### Advanced Aggregation Techniques\n",
    "\n",
    "Sophisticated aggregation methods for complex analysis..."
   ]
  },
  {
   "cell_type": "code",
   "execution_count": null,
   "id": "advanced-aggregation",
   "metadata": {},
   "outputs": [],
   "source": [
    "# TODO: Show advanced aggregation techniques\n",
    "# - Weighted aggregations (area-weighted, population-weighted)\n",
    "# - Multi-level aggregations (nested geographic hierarchies)\n",
    "# - Time-based spatial aggregations\n",
    "# - Handling missing data in aggregations\n",
    "pass"
   ]
  },
  {
   "cell_type": "markdown",
   "id": "l5m6n7o8-1n4o-2k5p-gk7l-eh2f6f3e8k5g",
   "metadata": {},
   "source": [
    "### Geometry Aggregation Strategies\n",
    "\n",
    "How to handle geometries when grouping features..."
   ]
  },
  {
   "cell_type": "code",
   "execution_count": null,
   "id": "geometry-aggregation",
   "metadata": {},
   "outputs": [],
   "source": [
    "# TODO: Demonstrate geometry aggregation strategies\n",
    "# - Union/dissolve for polygon groups\n",
    "# - Multipoint for point groups\n",
    "# - Convex hull for point clusters\n",
    "# - Representative points for complex aggregations\n",
    "pass"
   ]
  },
  {
   "cell_type": "markdown",
   "id": "m6n7o8p9-2o5p-3l6q-hl8m-fi3f7f4e9l6h",
   "metadata": {},
   "source": [
    "### Implementing aggregate_spatial_data()\n",
    "\n",
    "Creating a flexible aggregation function..."
   ]
  },
  {
   "cell_type": "code",
   "execution_count": null,
   "id": "aggregation-implementation",
   "metadata": {},
   "outputs": [],
   "source": [
    "# TODO: Step-by-step implementation guide for aggregate_spatial_data()\n",
    "# Handle both attribute and spatial grouping methods\n",
    "pass"
   ]
  },
  {
   "cell_type": "markdown",
   "id": "n7o8p9q0-3p6q-4m7r-im9n-gj4f8f5e0m7i",
   "metadata": {},
   "source": [
    "## 🔍 Function 6: Multi-Criteria Spatial Filtering\n",
    "\n",
    "Selecting features that meet complex spatial and attribute conditions..."
   ]
  },
  {
   "cell_type": "markdown",
   "id": "o8p9q0r1-4q7r-5n8s-jn0o-hk5f9f6e1n8j",
   "metadata": {},
   "source": [
    "### Spatial Filter Types\n",
    "\n",
    "Different ways to filter features based on spatial properties..."
   ]
  },
  {
   "cell_type": "code",
   "execution_count": null,
   "id": "spatial-filter-types",
   "metadata": {},
   "outputs": [],
   "source": [
    "# TODO: Demonstrate different spatial filter types\n",
    "# - Area-based filters (min/max area)\n",
    "# - Bounding box filters (within geographic extent)\n",
    "# - Proximity filters (within distance of features)\n",
    "# - Intersection filters (overlapping with specific areas)\n",
    "pass"
   ]
  },
  {
   "cell_type": "markdown",
   "id": "p9q0r1s2-5r8s-6o9t-ko1p-il6f0f7e2o9k",
   "metadata": {},
   "source": [
    "### Attribute Filter Strategies\n",
    "\n",
    "Filtering based on non-spatial characteristics..."
   ]
  },
  {
   "cell_type": "code",
   "execution_count": null,
   "id": "attribute-filters",
   "metadata": {},
   "outputs": [],
   "source": [
    "# TODO: Demonstrate attribute filtering\n",
    "# - Numeric range filters (population between X and Y)\n",
    "# - Categorical filters (city type in ['urban', 'suburban'])\n",
    "# - Date range filters (events after specific date)\n",
    "# - Null/missing value handling\n",
    "pass"
   ]
  },
  {
   "cell_type": "markdown",
   "id": "q0r1s2t3-6s9t-7p0u-lp2q-jm7f1f8e3p0l",
   "metadata": {},
   "source": [
    "### Combining Multiple Criteria\n",
    "\n",
    "Building complex selection logic with multiple conditions..."
   ]
  },
  {
   "cell_type": "code",
   "execution_count": null,
   "id": "multi-criteria-logic",
   "metadata": {},
   "outputs": [],
   "source": [
    "# TODO: Demonstrate multi-criteria filtering\n",
    "# - AND logic: features meeting ALL conditions\n",
    "# - OR logic: features meeting ANY condition\n",
    "# - Complex combinations of spatial and attribute filters\n",
    "# - Progressive filtering with condition tracking\n",
    "pass"
   ]
  },
  {
   "cell_type": "markdown",
   "id": "r1s2t3u4-7t0u-8q1v-mq3r-kn8f2f9e4q1m",
   "metadata": {},
   "source": [
    "### Real-World Multi-Criteria Examples\n",
    "\n",
    "Practical applications of complex spatial filtering..."
   ]
  },
  {
   "cell_type": "code",
   "execution_count": null,
   "id": "real-world-filtering",
   "metadata": {},
   "outputs": [],
   "source": [
    "# TODO: Show realistic multi-criteria examples\n",
    "# - Site selection: large parcels, near roads, outside flood zones\n",
    "# - Market analysis: high-income areas, population > 1000, within 10km of city\n",
    "# - Environmental: protected species habitat AND low human disturbance\n",
    "# - Emergency planning: hospitals with capacity AND accessible by major roads\n",
    "pass"
   ]
  },
  {
   "cell_type": "markdown",
   "id": "s2t3u4v5-8u1v-9r2w-nr4s-lo9f3f0e5r2n",
   "metadata": {},
   "source": [
    "### Performance Optimization for Complex Filters\n",
    "\n",
    "Making multi-criteria analysis efficient with large datasets..."
   ]
  },
  {
   "cell_type": "code",
   "execution_count": null,
   "id": "filter-optimization",
   "metadata": {},
   "outputs": [],
   "source": [
    "# TODO: Demonstrate filter optimization techniques\n",
    "# - Apply most selective filters first\n",
    "# - Use spatial indexes for geometric filters\n",
    "# - Batch processing for large datasets\n",
    "# - Memory-efficient filtering strategies\n",
    "pass"
   ]
  },
  {
   "cell_type": "markdown",
   "id": "t3u4v5w6-9v2w-0s3x-os5t-mp0f4f1e6s3o",
   "metadata": {},
   "source": [
    "### Implementing filter_by_spatial_criteria()\n",
    "\n",
    "Building a comprehensive multi-criteria filtering function..."
   ]
  },
  {
   "cell_type": "code",
   "execution_count": null,
   "id": "filtering-implementation",
   "metadata": {},
   "outputs": [],
   "source": [
    "# TODO: Step-by-step implementation guide for filter_by_spatial_criteria()\n",
    "# Handle complex criteria combinations and edge cases\n",
    "pass"
   ]
  },
  {
   "cell_type": "markdown",
   "id": "u4v5w6x7-0w3x-1t4y-pt6u-nq1f5f2e7t4p",
   "metadata": {},
   "source": [
    "## 🔄 Complete Analysis Workflows\n",
    "\n",
    "Combining all three functions into powerful analysis pipelines..."
   ]
  },
  {
   "cell_type": "code",
   "execution_count": null,
   "id": "complete-workflows",
   "metadata": {},
   "outputs": [],
   "source": [
    "# TODO: Demonstrate complete analysis workflows\n",
    "# Example 1: Environmental Impact Assessment\n",
    "# - Filter industrial sites by size and proximity to water\n",
    "# - Find communities within impact buffer zones\n",
    "# - Aggregate population statistics by impact level\n",
    "#\n",
    "# Example 2: Public Health Analysis\n",
    "# - Intersect disease cases with demographic areas\n",
    "# - Aggregate case counts by income level\n",
    "# - Filter high-risk areas by multiple criteria\n",
    "#\n",
    "# Example 3: Urban Planning Study\n",
    "# - Find developable land (large parcels, outside flood zones)\n",
    "# - Calculate access to services (within buffers of schools, hospitals)\n",
    "# - Aggregate development potential by planning district\n",
    "pass"
   ]
  },
  {
   "cell_type": "markdown",
   "id": "v5w6x7y8-1x4y-2u5z-qu7v-or2f6f3e8u5q",
   "metadata": {},
   "source": [
    "## 🧪 Testing Your Spatial Analysis Functions\n",
    "\n",
    "Validating that your spatial analysis functions work correctly..."
   ]
  },
  {
   "cell_type": "code",
   "execution_count": null,
   "id": "testing-examples",
   "metadata": {},
   "outputs": [],
   "source": [
    "# TODO: Comprehensive testing examples\n",
    "# - Test spatial joins with different geometry combinations\n",
    "# - Test aggregation with various grouping methods\n",
    "# - Test filtering with edge cases and boundary conditions\n",
    "# - Validate results make geographic sense\n",
    "# - Performance testing with realistic dataset sizes\n",
    "pass"
   ]
  },
  {
   "cell_type": "markdown",
   "id": "w6x7y8z9-2y5z-3v6a-rv8w-ps3f7f4e9v6r",
   "metadata": {},
   "source": [
    "## 📈 Performance and Scalability\n",
    "\n",
    "Making your spatial analysis efficient with large datasets..."
   ]
  },
  {
   "cell_type": "code",
   "execution_count": null,
   "id": "performance-optimization",
   "metadata": {},
   "outputs": [],
   "source": [
    "# TODO: Demonstrate performance optimization techniques\n",
    "# - Spatial indexing with .sindex\n",
    "# - Chunked processing for large datasets\n",
    "# - Memory-efficient operations\n",
    "# - When to use different join strategies\n",
    "# - Profiling and benchmarking spatial operations\n",
    "pass"
   ]
  },
  {
   "cell_type": "markdown",
   "id": "x7y8z9a0-3z6a-4w7b-sw9x-qt4f8f5e0w7s",
   "metadata": {},
   "source": [
    "## 🌟 Professional Applications\n",
    "\n",
    "How spatial analysis techniques are used across different industries..."
   ]
  },
  {
   "cell_type": "code",
   "execution_count": null,
   "id": "professional-applications",
   "metadata": {},
   "outputs": [],
   "source": [
    "# TODO: Show professional application examples\n",
    "# - Environmental consulting: habitat impact assessments\n",
    "# - Urban planning: zoning compliance and development analysis\n",
    "# - Public health: disease surveillance and service planning\n",
    "# - Business intelligence: market analysis and site selection\n",
    "# - Emergency management: resource allocation and risk assessment\n",
    "# - Transportation: route planning and accessibility analysis\n",
    "pass"
   ]
  },
  {
   "cell_type": "markdown",
   "id": "y8z9a0b1-4a7b-5x8c-tx0y-ru5f9f6e1x8t",
   "metadata": {},
   "source": [
    "## 🎯 Key Takeaways\n",
    "\n",
    "After completing this notebook, you should understand:\n",
    "\n",
    "✅ **Spatial relationships** - How features relate to each other through location  \n",
    "✅ **Spatial joins** - Combining datasets based on geographic relationships  \n",
    "✅ **Data aggregation** - Summarizing information by spatial groups  \n",
    "✅ **Multi-criteria analysis** - Applying complex selection logic  \n",
    "✅ **Analysis workflows** - Combining operations for comprehensive analysis  \n",
    "✅ **Performance optimization** - Handling large datasets efficiently  \n",
    "\n",
    "## 📚 Next Steps\n",
    "\n",
    "1. **Implement** your three spatial analysis functions in `src/spatial_analysis.py`\n",
    "2. **Test** your implementations with `uv run pytest tests/ -k \"spatial\" -v`\n",
    "3. **Move on** to `04_mapping_visualization.ipynb` to learn about professional mapping\n",
    "\n",
    "---\n",
    "\n",
    "*Spatial analysis is where GIS really shines - connecting datasets through location to reveal patterns and relationships invisible in traditional data analysis. Master these techniques and you'll be ready to tackle complex real-world spatial problems!* 🌟"
   ]
  }
 ],
 "metadata": {
  "kernelspec": {
   "display_name": "Python 3 (ipykernel)",
   "language": "python",
   "name": "python3"
  },
  "language_info": {
   "codemirror_mode": {
    "name": "ipython",
    "version": 3
   },
   "file_extension": ".py",
   "mimetype": "text/x-python",
   "name": "python",
   "nbconvert_exporter": "python",
   "version": "3.11.5"
  }
 },
 "nbformat": 4,
 "nbformat_minor": 5
}
