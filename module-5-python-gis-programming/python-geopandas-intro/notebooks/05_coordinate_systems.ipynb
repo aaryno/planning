{
 "cells": [
  {
   "cell_type": "markdown",
   "id": "f47ea4d9-8c5a-4b9f-8e9b-2a1c7f3d8e8b",
   "metadata": {},
   "source": [
    "# 🌍 Coordinate Reference Systems - Transforming Spatial Data\n",
    "\n",
    "**GIST 604B - Python GeoPandas Introduction**  \n",
    "**Notebook 5: Understanding and Transforming Coordinate Systems**\n",
    "\n",
    "---\n",
    "\n",
    "## 🎯 Learning Objectives\n",
    "\n",
    "By the end of this notebook, you will be able to:\n",
    "- Understand different types of coordinate reference systems (CRS)\n",
    "- Choose appropriate CRS for different analysis tasks\n",
    "- Transform data between different coordinate systems\n",
    "- Handle CRS-related errors and edge cases\n",
    "- Optimize CRS selection based on geographic extent\n",
    "- Implement the `standardize_crs()` function\n",
    "\n",
    "## 🗺️ Why Coordinate Systems Matter\n",
    "\n",
    "**The Earth is round, but your computer screen is flat!**\n",
    "\n",
    "Coordinate Reference Systems (CRS) solve the fundamental problem of representing the 3D Earth on 2D maps and screens. Different CRS make different trade-offs:\n",
    "- **Accurate distances** vs **accurate areas** vs **accurate shapes**\n",
    "- **Global coverage** vs **regional precision**\n",
    "- **Simple coordinates** vs **complex projections**\n",
    "\n",
    "**Wrong CRS = Wrong analysis results!**"
   ]
  },
  {
   "cell_type": "code",
   "execution_count": null,
   "id": "setup-cell",
   "metadata": {},
   "outputs": [],
   "source": [
    "# Import necessary libraries\n",
    "import geopandas as gpd\n",
    "import pandas as pd\n",
    "import numpy as np\n",
    "import matplotlib.pyplot as plt\n",
    "from shapely.geometry import Point, Polygon\n",
    "import pyproj\n",
    "import warnings\n",
    "warnings.filterwarnings('ignore')\n",
    "\n",
    "print(\"📦 Libraries loaded successfully!\")\n",
    "print(f\"🐼 GeoPandas version: {gpd.__version__}\")\n",
    "print(f\"🌍 PyProj version: {pyproj.__version__}\")"
   ]
  },
  {
   "cell_type": "markdown",
   "id": "a2b5c8f1-9e3d-4c2f-8e9b-3a1c7f2d9e4a",
   "metadata": {},
   "source": [
    "## 🌐 Types of Coordinate Reference Systems\n",
    "\n",
    "There are two main categories of CRS..."
   ]
  },
  {
   "cell_type": "markdown",
   "id": "b3c4d8f2-1e4d-4c5f-9e8b-4a2c7f3d8e5c",
   "metadata": {},
   "source": [
    "### Geographic CRS - Latitude and Longitude\n",
    "\n",
    "**Examples:** WGS84 (EPSG:4326), NAD83 (EPSG:4269)\n",
    "\n",
    "**Characteristics:**\n",
    "- Coordinates in degrees (latitude/longitude)\n",
    "- Global coverage\n",
    "- **NOT suitable for distance/area calculations**\n",
    "- Perfect for: Data storage, web mapping, global datasets"
   ]
  },
  {
   "cell_type": "code",
   "execution_count": null,
   "id": "geographic-crs-demo",
   "metadata": {},
   "outputs": [],
   "source": [
    "# TODO: Demonstrate geographic CRS properties\n",
    "# - Show coordinates in degrees\n",
    "# - Demonstrate why distance calculations are wrong\n",
    "# - Show global coverage\n",
    "pass"
   ]
  },
  {
   "cell_type": "markdown",
   "id": "c4d5e8f3-2e5d-4b6f-7e8c-5a3c8f4d9e6d",
   "metadata": {},
   "source": [
    "### Projected CRS - Meters and Feet\n",
    "\n",
    "**Examples:** UTM zones, State Plane, Web Mercator (EPSG:3857)\n",
    "\n",
    "**Characteristics:**\n",
    "- Coordinates in linear units (meters, feet)\n",
    "- Regional or specialized coverage\n",
    "- **Accurate for distance/area calculations** (in their intended region)\n",
    "- Perfect for: Analysis, measurements, regional mapping"
   ]
  },
  {
   "cell_type": "code",
   "execution_count": null,
   "id": "projected-crs-demo",
   "metadata": {},
   "outputs": [],
   "source": [
    "# TODO: Demonstrate projected CRS properties\n",
    "# - Show coordinates in meters\n",
    "# - Demonstrate accurate distance calculations\n",
    "# - Show regional limitations\n",
    "pass"
   ]
  },
  {
   "cell_type": "markdown",
   "id": "d6e7f4g5-3f6e-4c7f-8f9c-6a4c8f5d0e7e",
   "metadata": {},
   "source": [
    "## 🎯 Common CRS for Different Tasks\n",
    "\n",
    "Choosing the right CRS for your analysis..."
   ]
  },
  {
   "cell_type": "markdown",
   "id": "e8f6g7h8-4g7h-5d8i-9f0e-7b5c9f6e1f8g",
   "metadata": {},
   "source": [
    "### For Web Mapping: EPSG:3857 (Web Mercator)"
   ]
  },
  {
   "cell_type": "code",
   "execution_count": null,
   "id": "web-mercator-demo",
   "metadata": {},
   "outputs": [],
   "source": [
    "# TODO: Show Web Mercator characteristics\n",
    "# - Used by Google Maps, OpenStreetMap, etc.\n",
    "# - Good for visualization, poor for measurement\n",
    "# - Severe distortion near poles\n",
    "pass"
   ]
  },
  {
   "cell_type": "markdown",
   "id": "f9g0h1i2-5h8i-6e9j-af1f-8c6d0f7e2f9a",
   "metadata": {},
   "source": [
    "### For Regional Analysis: UTM Zones"
   ]
  },
  {
   "cell_type": "code",
   "execution_count": null,
   "id": "utm-demo",
   "metadata": {},
   "outputs": [],
   "source": [
    "# TODO: Demonstrate UTM zone selection\n",
    "# - How to determine appropriate UTM zone\n",
    "# - Accurate measurements within zone\n",
    "# - Problems when crossing zone boundaries\n",
    "pass"
   ]
  },
  {
   "cell_type": "markdown",
   "id": "g0h1i2j3-6i9j-7f0k-bf2g-9d7e1f8e3f0b",
   "metadata": {},
   "source": [
    "### For Global Analysis: Equal Area Projections"
   ]
  },
  {
   "cell_type": "code",
   "execution_count": null,
   "id": "equal-area-demo",
   "metadata": {},
   "outputs": [],
   "source": [
    "# TODO: Show equal area projections\n",
    "# - Mollweide, Eckert IV, etc.\n",
    "# - Accurate area calculations globally\n",
    "# - When to use for global statistics\n",
    "pass"
   ]
  },
  {
   "cell_type": "markdown",
   "id": "h1i2j3k4-7j0k-8g1l-cg3h-ae8f2f9e4g1c",
   "metadata": {},
   "source": [
    "## 🔄 Transforming Between CRS\n",
    "\n",
    "How to reproject your data between coordinate systems..."
   ]
  },
  {
   "cell_type": "code",
   "execution_count": null,
   "id": "transformation-demo",
   "metadata": {},
   "outputs": [],
   "source": [
    "# TODO: Demonstrate CRS transformations\n",
    "# - Using to_crs() method\n",
    "# - Different ways to specify target CRS (EPSG codes, proj strings, etc.)\n",
    "# - Handling transformation errors\n",
    "# - Validating results after transformation\n",
    "pass"
   ]
  },
  {
   "cell_type": "markdown",
   "id": "i2j3k4l5-8k1l-9h2m-dh4i-bf9f3f0e5h2d",
   "metadata": {},
   "source": [
    "## 🎯 Smart CRS Selection\n",
    "\n",
    "Automatically choosing appropriate CRS based on data characteristics..."
   ]
  },
  {
   "cell_type": "code",
   "execution_count": null,
   "id": "smart-crs-selection",
   "metadata": {},
   "outputs": [],
   "source": [
    "# TODO: Implement smart CRS selection logic\n",
    "# - Analyze data extent to choose UTM zone\n",
    "# - Determine if data is global or regional\n",
    "# - Select appropriate projection based on analysis type\n",
    "# - Handle edge cases (data crossing date line, polar regions)\n",
    "pass"
   ]
  },
  {
   "cell_type": "markdown",
   "id": "j3k4l5m6-9l2m-0i3n-ei5j-cg0f4f1e6i3e",
   "metadata": {},
   "source": [
    "## 🚨 Common CRS Pitfalls and How to Avoid Them\n",
    "\n",
    "Learn from common mistakes..."
   ]
  },
  {
   "cell_type": "markdown",
   "id": "k4l5m6n7-0m3n-1j4o-fj6k-dh1f5f2e7j4f",
   "metadata": {},
   "source": [
    "### Pitfall 1: Measuring Distances in Geographic CRS"
   ]
  },
  {
   "cell_type": "code",
   "execution_count": null,
   "id": "distance-pitfall",
   "metadata": {},
   "outputs": [],
   "source": [
    "# TODO: Demonstrate the distance calculation problem\n",
    "# - Show wrong results with geographic CRS\n",
    "# - Show correct results after reprojection\n",
    "# - Quantify the error magnitude\n",
    "pass"
   ]
  },
  {
   "cell_type": "markdown",
   "id": "l5m6n7o8-1n4o-2k5p-gk7l-eh2f6f3e8k5g",
   "metadata": {},
   "source": [
    "### Pitfall 2: Using Wrong UTM Zone"
   ]
  },
  {
   "cell_type": "code",
   "execution_count": null,
   "id": "utm-zone-pitfall",
   "metadata": {},
   "outputs": [],
   "source": [
    "# TODO: Show problems with wrong UTM zone\n",
    "# - Distortion when using distant UTM zone\n",
    "# - How to determine correct zone\n",
    "# - When to use multiple zones for large datasets\n",
    "pass"
   ]
  },
  {
   "cell_type": "markdown",
   "id": "m6n7o8p9-2o5p-3l6q-hl8m-fi3f7f4e9l6h",
   "metadata": {},
   "source": [
    "### Pitfall 3: Assuming CRS is Correct"
   ]
  },
  {
   "cell_type": "code",
   "execution_count": null,
   "id": "crs-assumption-pitfall",
   "metadata": {},
   "outputs": [],
   "source": [
    "# TODO: Show problems with incorrect CRS assumptions\n",
    "# - Data in wrong location due to CRS mismatch\n",
    "# - How to detect and fix CRS problems\n",
    "# - Visual validation techniques\n",
    "pass"
   ]
  },
  {
   "cell_type": "markdown",
   "id": "n7o8p9q0-3p6q-4m7r-im9n-gj4f8f5e0m7i",
   "metadata": {},
   "source": [
    "## 🛠️ Building Your standardize_crs() Function\n",
    "\n",
    "Now let's implement an intelligent CRS standardization function..."
   ]
  },
  {
   "cell_type": "code",
   "execution_count": null,
   "id": "function-implementation",
   "metadata": {},
   "outputs": [],
   "source": [
    "# TODO: Step-by-step implementation guide\n",
    "# This will walk through building a smart CRS transformation function\n",
    "# that can auto-select appropriate projections and handle edge cases\n",
    "pass"
   ]
  },
  {
   "cell_type": "markdown",
   "id": "o8p9q0r1-4q7r-5n8s-jn0o-hk5f9f6e1n8j",
   "metadata": {},
   "source": [
    "## 🧪 Testing Your Implementation\n",
    "\n",
    "Let's test our function with different scenarios..."
   ]
  },
  {
   "cell_type": "code",
   "execution_count": null,
   "id": "testing-examples",
   "metadata": {},
   "outputs": [],
   "source": [
    "# TODO: Test cases for CRS standardization\n",
    "# - Global datasets\n",
    "# - Regional datasets\n",
    "# - Data crossing UTM zones\n",
    "# - Data with missing CRS\n",
    "# - Edge cases (polar regions, date line)\n",
    "pass"
   ]
  },
  {
   "cell_type": "markdown",
   "id": "p9q0r1s2-5r8s-6o9t-ko1p-il6f0f7e2o9k",
   "metadata": {},
   "source": [
    "## 📐 CRS Performance Considerations\n",
    "\n",
    "Some CRS transformations are faster than others..."
   ]
  },
  {
   "cell_type": "code",
   "execution_count": null,
   "id": "performance-considerations",
   "metadata": {},
   "outputs": [],
   "source": [
    "# TODO: Demonstrate performance differences\n",
    "# - Simple transformations vs complex projections\n",
    "# - Caching transformation objects\n",
    "# - When to avoid repeated transformations\n",
    "pass"
   ]
  },
  {
   "cell_type": "markdown",
   "id": "q0r1s2t3-6s9t-7p0u-lp2q-jm7f1f8e3p0l",
   "metadata": {},
   "source": [
    "## 🌍 Real-World CRS Examples\n",
    "\n",
    "Examples from actual spatial analysis projects..."
   ]
  },
  {
   "cell_type": "code",
   "execution_count": null,
   "id": "real-world-examples",
   "metadata": {},
   "outputs": [],
   "source": [
    "# TODO: Show real-world CRS decisions\n",
    "# - Urban planning projects (local UTM)\n",
    "# - Environmental monitoring (regional equal area)\n",
    "# - Global climate analysis (equal area)\n",
    "# - Web mapping applications (Web Mercator)\n",
    "pass"
   ]
  },
  {
   "cell_type": "markdown",
   "id": "r1s2t3u4-7t0u-8q1v-mq3r-kn8f2f9e4q1m",
   "metadata": {},
   "source": [
    "## 🎯 Key Takeaways\n",
    "\n",
    "After completing this notebook, you should understand:\n",
    "\n",
    "✅ **CRS categories** - Geographic vs Projected coordinate systems  \n",
    "✅ **CRS selection** - Choosing appropriate projections for different tasks  \n",
    "✅ **Transformations** - How to reproject data between coordinate systems  \n",
    "✅ **Smart selection** - Auto-selecting CRS based on data characteristics  \n",
    "✅ **Common pitfalls** - Avoiding typical CRS-related mistakes  \n",
    "✅ **Performance** - Optimizing CRS transformations for large datasets  \n",
    "\n",
    "## 📚 Next Steps\n",
    "\n",
    "1. **Implement** your `standardize_crs()` function in `src/spatial_basics.py`\n",
    "2. **Test** your implementation with `uv run pytest tests/ -k \"standardize_crs\" -v`\n",
    "3. **Run all tests** to make sure everything works together: `uv run pytest tests/ -v`\n",
    "4. **Submit your work** by pushing to GitHub!\n",
    "\n",
    "## 🎉 Congratulations!\n",
    "\n",
    "You've completed the GeoPandas Introduction course! You now have solid foundations in:\n",
    "- Loading spatial data from various formats\n",
    "- Exploring spatial dataset properties\n",
    "- Validating spatial data quality\n",
    "- Working with coordinate reference systems\n",
    "\n",
    "**These skills form the foundation of all spatial analysis work. Well done!** 🌟\n",
    "\n",
    "---\n",
    "\n",
    "*Coordinate systems might seem abstract, but they're the foundation that makes all spatial analysis possible. Understanding CRS well will save you countless hours of debugging \"why is my analysis giving weird results?\" Take time to really understand this concept - it's one of the most important skills in GIS!* 🌟"
   ]
  }
 ],
 "metadata": {
  "kernelspec": {
   "display_name": "Python 3 (ipykernel)",
   "language": "python",
   "name": "python3"
  },
  "language_info": {
   "codemirror_mode": {
    "name": "ipython",
    "version": 3
   },
   "file_extension": ".py",
   "mimetype": "text/x-python",
   "name": "python",
   "nbconvert_exporter": "python",
   "version": "3.11.5"
  }
 },
 "nbformat": 4,
 "nbformat_minor": 5
}
