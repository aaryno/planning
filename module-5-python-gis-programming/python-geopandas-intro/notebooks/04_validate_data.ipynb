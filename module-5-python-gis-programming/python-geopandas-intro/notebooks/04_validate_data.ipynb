{
 "cells": [
  {
   "cell_type": "markdown",
   "id": "f47ea4d9-8c5a-4b9f-8e9b-2a1c7f3d8e8b",
   "metadata": {},
   "source": [
    "# ✅ Validating Spatial Data - Ensuring Data Quality\n",
    "\n",
    "**GIST 604B - Python GeoPandas Introduction**  \n",
    "**Notebook 4: Spatial Data Quality Control**\n",
    "\n",
    "---\n",
    "\n",
    "## 🎯 Learning Objectives\n",
    "\n",
    "By the end of this notebook, you will be able to:\n",
    "- Identify and diagnose invalid geometries in spatial datasets\n",
    "- Check for missing or null spatial data\n",
    "- Validate coordinate ranges and detect outliers\n",
    "- Assess coordinate reference system appropriateness\n",
    "- Generate comprehensive data quality reports\n",
    "- Implement the `validate_spatial_data()` function\n",
    "\n",
    "## 🚨 Why Data Validation Matters\n",
    "\n",
    "Real-world spatial data often contains errors that can break your analysis:\n",
    "- **Invalid geometries** - Self-intersecting polygons, unclosed rings\n",
    "- **Missing coordinates** - Null or empty geometry values\n",
    "- **Coordinate errors** - Values outside valid ranges\n",
    "- **CRS mismatches** - Wrong or missing projection information\n",
    "- **Topology issues** - Gaps, overlaps, or inconsistent boundaries\n",
    "\n",
    "**Better to catch these early than debug mysterious analysis failures later!**"
   ]
  },
  {
   "cell_type": "code",
   "execution_count": null,
   "id": "setup-cell",
   "metadata": {},
   "outputs": [],
   "source": [
    "# Import necessary libraries\n",
    "import geopandas as gpd\n",
    "import pandas as pd\n",
    "import numpy as np\n",
    "import matplotlib.pyplot as plt\n",
    "from shapely.geometry import Point, Polygon, LineString\n",
    "from shapely.validation import explain_validity\n",
    "import warnings\n",
    "warnings.filterwarnings('ignore')\n",
    "\n",
    "print(\"📦 Libraries loaded successfully!\")\n",
    "print(f\"🐼 GeoPandas version: {gpd.__version__}\")"
   ]
  },
  {
   "cell_type": "markdown",
   "id": "a2b5c8f1-9e3d-4c2f-8e9b-3a1c7f2d9e4a",
   "metadata": {},
   "source": [
    "## 🔍 Detecting Invalid Geometries\n",
    "\n",
    "Invalid geometries are one of the most common problems in spatial data..."
   ]
  },
  {
   "cell_type": "code",
   "execution_count": null,
   "id": "invalid-geometry-detection",
   "metadata": {},
   "outputs": [],
   "source": [
    "# TODO: Create examples of invalid geometries and show how to detect them\n",
    "# - Self-intersecting polygons\n",
    "# - Unclosed polygon rings  \n",
    "# - Degenerate geometries (zero area/length)\n",
    "# - Using is_valid property\n",
    "# - Using explain_validity() for detailed error messages\n",
    "pass"
   ]
  },
  {
   "cell_type": "markdown",
   "id": "b3c4d8f2-1e4d-4c5f-9e8b-4a2c7f3d8e5c",
   "metadata": {},
   "source": [
    "## 🕳️ Finding Missing and Null Geometries\n",
    "\n",
    "Sometimes spatial data has missing coordinate information..."
   ]
  },
  {
   "cell_type": "code",
   "execution_count": null,
   "id": "missing-geometry-detection",
   "metadata": {},
   "outputs": [],
   "source": [
    "# TODO: Detect missing and null geometries\n",
    "# - Using isna() and isnull() to find missing geometries\n",
    "# - Checking for empty geometries with is_empty\n",
    "# - Counting and locating problematic records\n",
    "pass"
   ]
  },
  {
   "cell_type": "markdown",
   "id": "c4d5e8f3-2e5d-4b6f-7e8c-5a3c8f4d9e6d",
   "metadata": {},
   "source": [
    "## 🌍 Validating Coordinate Ranges\n",
    "\n",
    "Coordinates should be within reasonable ranges based on the CRS..."
   ]
  },
  {
   "cell_type": "code",
   "execution_count": null,
   "id": "coordinate-range-validation",
   "metadata": {},
   "outputs": [],
   "source": [
    "# TODO: Check coordinate ranges\n",
    "# - For geographic CRS (EPSG:4326): latitude [-90, 90], longitude [-180, 180]\n",
    "# - For projected CRS: reasonable ranges based on projection\n",
    "# - Detecting obvious outliers (coordinates in wrong hemisphere, etc.)\n",
    "# - Flagging suspicious coordinate patterns\n",
    "pass"
   ]
  },
  {
   "cell_type": "markdown",
   "id": "d6e7f4g5-3f6e-4c7f-8f9c-6a4c8f5d0e7e",
   "metadata": {},
   "source": [
    "## 🗺️ Checking CRS Issues\n",
    "\n",
    "Coordinate reference system problems can cause major analysis errors..."
   ]
  },
  {
   "cell_type": "code",
   "execution_count": null,
   "id": "crs-validation",
   "metadata": {},
   "outputs": [],
   "source": [
    "# TODO: Validate CRS information\n",
    "# - Check if CRS is defined (not None)\n",
    "# - Verify CRS is appropriate for data extent\n",
    "# - Detect common CRS mismatches\n",
    "# - Flag datasets that might need reprojection\n",
    "pass"
   ]
  },
  {
   "cell_type": "markdown",
   "id": "e8f6g7h8-4g7h-5d8i-9f0e-7b5c9f6e1f8g",
   "metadata": {},
   "source": [
    "## 📐 Geometry-Specific Validation\n",
    "\n",
    "Different geometry types have different validation requirements..."
   ]
  },
  {
   "cell_type": "markdown",
   "id": "f9g0h1i2-5h8i-6e9j-af1f-8c6d0f7e2f9a",
   "metadata": {},
   "source": [
    "### Point Validation"
   ]
  },
  {
   "cell_type": "code",
   "execution_count": null,
   "id": "point-validation",
   "metadata": {},
   "outputs": [],
   "source": [
    "# TODO: Point-specific validation\n",
    "# - Check for duplicate points\n",
    "# - Validate coordinate precision\n",
    "# - Detect points at (0, 0) which might indicate missing data\n",
    "pass"
   ]
  },
  {
   "cell_type": "markdown",
   "id": "g0h1i2j3-6i9j-7f0k-bf2g-9d7e1f8e3f0b",
   "metadata": {},
   "source": [
    "### Line Validation"
   ]
  },
  {
   "cell_type": "code",
   "execution_count": null,
   "id": "line-validation",
   "metadata": {},
   "outputs": [],
   "source": [
    "# TODO: LineString-specific validation\n",
    "# - Check for minimum number of points (at least 2)\n",
    "# - Detect zero-length lines\n",
    "# - Find lines with duplicate consecutive points\n",
    "pass"
   ]
  },
  {
   "cell_type": "markdown",
   "id": "h1i2j3k4-7j0k-8g1l-cg3h-ae8f2f9e4g1c",
   "metadata": {},
   "source": [
    "### Polygon Validation"
   ]
  },
  {
   "cell_type": "code",
   "execution_count": null,
   "id": "polygon-validation",
   "metadata": {},
   "outputs": [],
   "source": [
    "# TODO: Polygon-specific validation\n",
    "# - Check for closed rings (first point = last point)\n",
    "# - Detect self-intersecting polygons\n",
    "# - Find zero-area polygons\n",
    "# - Validate interior rings (holes) don't overlap exterior\n",
    "pass"
   ]
  },
  {
   "cell_type": "markdown",
   "id": "i2j3k4l5-8k1l-9h2m-dh4i-bf9f3f0e5h2d",
   "metadata": {},
   "source": [
    "## 🛠️ Generating Quality Reports\n",
    "\n",
    "Creating comprehensive validation reports for datasets..."
   ]
  },
  {
   "cell_type": "code",
   "execution_count": null,
   "id": "quality-reporting",
   "metadata": {},
   "outputs": [],
   "source": [
    "# TODO: Create validation reports\n",
    "# - Summary of issues found\n",
    "# - Counts and percentages of different problem types\n",
    "# - Specific recommendations for fixing issues\n",
    "# - Overall data quality score/rating\n",
    "pass"
   ]
  },
  {
   "cell_type": "markdown",
   "id": "j3k4l5m6-9l2m-0i3n-ei5j-cg0f4f1e6i3e",
   "metadata": {},
   "source": [
    "## 🔧 Common Fixes for Spatial Data Issues\n",
    "\n",
    "Not just detecting problems - showing how to fix them!"
   ]
  },
  {
   "cell_type": "code",
   "execution_count": null,
   "id": "common-fixes",
   "metadata": {},
   "outputs": [],
   "source": [
    "# TODO: Demonstrate common fixes\n",
    "# - Using buffer(0) to fix invalid polygons\n",
    "# - Removing duplicate points from lines\n",
    "# - Dropping features with missing geometries\n",
    "# - Setting appropriate CRS when missing\n",
    "pass"
   ]
  },
  {
   "cell_type": "markdown",
   "id": "k4l5m6n7-0m3n-1j4o-fj6k-dh1f5f2e7j4f",
   "metadata": {},
   "source": [
    "## 🛠️ Building Your validate_spatial_data() Function\n",
    "\n",
    "Now let's implement a comprehensive validation function..."
   ]
  },
  {
   "cell_type": "code",
   "execution_count": null,
   "id": "function-implementation",
   "metadata": {},
   "outputs": [],
   "source": [
    "# TODO: Step-by-step implementation guide\n",
    "# This will walk through building a robust validation function\n",
    "# that checks for all major types of spatial data quality issues\n",
    "pass"
   ]
  },
  {
   "cell_type": "markdown",
   "id": "l5m6n7o8-1n4o-2k5p-gk7l-eh2f6f3e8k5g",
   "metadata": {},
   "source": [
    "## 🧪 Testing Your Implementation\n",
    "\n",
    "Let's test our validation function with intentionally problematic data..."
   ]
  },
  {
   "cell_type": "code",
   "execution_count": null,
   "id": "testing-examples",
   "metadata": {},
   "outputs": [],
   "source": [
    "# TODO: Test cases with known problems\n",
    "# - Create datasets with various types of issues\n",
    "# - Verify that validation function catches all problems\n",
    "# - Test edge cases and boundary conditions\n",
    "pass"
   ]
  },
  {
   "cell_type": "markdown",
   "id": "m6n7o8p9-2o5p-3l6q-hl8m-fi3f7f4e9l6h",
   "metadata": {},
   "source": [
    "## 📊 Real-World Validation Examples\n",
    "\n",
    "Examples of validation reports from actual spatial datasets..."
   ]
  },
  {
   "cell_type": "code",
   "execution_count": null,
   "id": "real-world-examples",
   "metadata": {},
   "outputs": [],
   "source": [
    "# TODO: Show validation results from real datasets\n",
    "# - Government boundary data\n",
    "# - OpenStreetMap extracts\n",
    "# - Crowdsourced GPS data\n",
    "# - Commercial spatial datasets\n",
    "pass"
   ]
  },
  {
   "cell_type": "markdown",
   "id": "n7o8p9q0-3p6q-4m7r-im9n-gj4f8f5e0m7i",
   "metadata": {},
   "source": [
    "## 🎯 Key Takeaways\n",
    "\n",
    "After completing this notebook, you should understand:\n",
    "\n",
    "✅ **Geometry validation** - How to detect and diagnose invalid spatial features  \n",
    "✅ **Missing data detection** - Finding null and empty geometries  \n",
    "✅ **Coordinate validation** - Checking ranges and detecting outliers  \n",
    "✅ **CRS validation** - Ensuring appropriate coordinate systems  \n",
    "✅ **Quality reporting** - Generating comprehensive validation reports  \n",
    "✅ **Data repair** - Common techniques for fixing spatial data issues  \n",
    "\n",
    "## 📚 Next Steps\n",
    "\n",
    "1. **Implement** your `validate_spatial_data()` function in `src/spatial_basics.py`\n",
    "2. **Test** your implementation with `uv run pytest tests/ -k \"validate_spatial_data\" -v`\n",
    "3. **Move on** to `05_coordinate_systems.ipynb` to learn about CRS transformations\n",
    "\n",
    "---\n",
    "\n",
    "*Data validation is not glamorous, but it's essential! Clean, validated data is the foundation of reliable spatial analysis. Take time to validate your data before analysis - your future self will thank you!* 🌟"
   ]
  }
 ],
 "metadata": {
  "kernelspec": {
   "display_name": "Python 3 (ipykernel)",
   "language": "python",
   "name": "python3"
  },
  "language_info": {
   "codemirror_mode": {
    "name": "ipython",
    "version": 3
   },
   "file_extension": ".py",
   "mimetype": "text/x-python",
   "name": "python",
   "nbconvert_exporter": "python",
   "version": "3.11.5"
  }
 },
 "nbformat": 4,
 "nbformat_minor": 5
}
