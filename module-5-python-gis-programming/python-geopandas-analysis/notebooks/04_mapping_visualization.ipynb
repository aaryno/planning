{
 "cells": [
  {
   "cell_type": "markdown",
   "id": "f47ea4d9-8c5a-4b9f-8e9b-2a1c7f3d8e8b",
   "metadata": {},
   "source": [
    "# 🎨 Mapping & Visualization - Telling Stories with Spatial Data\n",
    "\n",
    "**GIST 604B - Python GeoPandas Analysis**  \n",
    "**Notebook 4: Professional Cartography and Interactive Mapping**\n",
    "\n",
    "---\n",
    "\n",
    "## 🎯 Learning Objectives\n",
    "\n",
    "By the end of this notebook, you will be able to:\n",
    "- Create publication-quality static choropleth maps with proper styling\n",
    "- Build interactive web maps with multiple layers and controls\n",
    "- Apply professional cartographic design principles\n",
    "- Choose appropriate color schemes and data classification methods\n",
    "- Add legends, labels, and other essential map elements\n",
    "- Implement the two visualization functions professionally\n",
    "\n",
    "## 🗺️ Why Visualization Matters in GIS\n",
    "\n",
    "**Maps are the language of geography** - they translate complex spatial data into understandable visual stories:\n",
    "- **Static maps** communicate findings in reports and presentations\n",
    "- **Interactive maps** enable exploration and discovery\n",
    "- **Professional styling** ensures credibility and accessibility\n",
    "- **Appropriate design** guides viewers to the right conclusions\n",
    "\n",
    "**A well-designed map can reveal insights that tables of numbers cannot!**"
   ]
  },
  {
   "cell_type": "code",
   "execution_count": null,
   "id": "setup-cell",
   "metadata": {},
   "outputs": [],
   "source": [
    "# Import necessary libraries for mapping and visualization\n",
    "import geopandas as gpd\n",
    "import pandas as pd\n",
    "import numpy as np\n",
    "import matplotlib.pyplot as plt\n",
    "import matplotlib.colors as colors\n",
    "import folium\n",
    "from folium import plugins\n",
    "import seaborn as sns\n",
    "from shapely.geometry import Point, Polygon\n",
    "import warnings\n",
    "warnings.filterwarnings('ignore')\n",
    "\n",
    "# Set up plotting parameters\n",
    "plt.style.use('default')\n",
    "sns.set_palette('husl')\n",
    "\n",
    "print(\"🎨 Mapping and visualization toolkit loaded!\")\n",
    "print(f\"📊 Matplotlib version: {plt.matplotlib.__version__}\")\n",
    "print(f\"🗺️ Folium version: {folium.__version__}\")\n",
    "print(\"✅ Ready for professional cartography!\")"
   ]
  },
  {
   "cell_type": "markdown",
   "id": "a2b5c8f1-9e3d-4c2f-8e9b-3a1c7f2d9e4a",
   "metadata": {},
   "source": [
    "## 🎨 Function 7: Static Choropleth Maps\n",
    "\n",
    "Creating professional publication-quality thematic maps..."
   ]
  },
  {
   "cell_type": "code",
   "execution_count": null,
   "id": "sample-data-creation",
   "metadata": {},
   "outputs": [],
   "source": [
    "# TODO: Create sample data for mapping demonstrations\n",
    "# - Polygon datasets with numeric attributes for choropleth mapping\n",
    "# - Counties/states with demographic data\n",
    "# - Environmental zones with measurement data\n",
    "# - Different data distributions for classification examples\n",
    "pass"
   ]
  },
  {
   "cell_type": "markdown",
   "id": "b3c4d8f2-1e4d-4c5f-9e8b-4a2c7f3d8e5c",
   "metadata": {},
   "source": [
    "### Understanding Choropleth Maps\n",
    "\n",
    "What makes an effective thematic map..."
   ]
  },
  {
   "cell_type": "code",
   "execution_count": null,
   "id": "choropleth-concepts",
   "metadata": {},
   "outputs": [],
   "source": [
    "# TODO: Explain choropleth mapping concepts\n",
    "# - When to use choropleth vs other map types\n",
    "# - Data requirements (numeric, polygon-based)\n",
    "# - Visual perception principles\n",
    "# - Common mistakes and how to avoid them\n",
    "pass"
   ]
  },
  {
   "cell_type": "markdown",
   "id": "c4d5e8f3-2e5d-4b6f-7e8c-5a3c8f4d9e6d",
   "metadata": {},
   "source": [
    "### Data Classification Methods\n",
    "\n",
    "How to group continuous data into meaningful classes..."
   ]
  },
  {
   "cell_type": "code",
   "execution_count": null,
   "id": "classification-methods",
   "metadata": {},
   "outputs": [],
   "source": [
    "# TODO: Demonstrate different classification methods\n",
    "# - Quantiles (equal count): Best for even distribution\n",
    "# - Equal Interval: Best for understanding range\n",
    "# - Natural Breaks (Jenks): Best for highlighting patterns\n",
    "# - Standard Deviation: Best for showing outliers\n",
    "# - Show how different methods affect map interpretation\n",
    "pass"
   ]
  },
  {
   "cell_type": "markdown",
   "id": "d6e7f4g5-3f6e-4c7f-8f9c-6a4c8f5d0e7e",
   "metadata": {},
   "source": [
    "### Color Scheme Selection\n",
    "\n",
    "Choosing colors that communicate your data effectively..."
   ]
  },
  {
   "cell_type": "code",
   "execution_count": null,
   "id": "color-schemes",
   "metadata": {},
   "outputs": [],
   "source": [
    "# TODO: Demonstrate color scheme principles\n",
    "# - Sequential: Light to dark for ordered data (population density)\n",
    "# - Diverging: Two colors from center for positive/negative data\n",
    "# - Qualitative: Distinct colors for categorical data\n",
    "# - ColorBrewer recommendations\n",
    "# - Accessibility considerations (colorblind-friendly)\n",
    "# - Show examples with same data, different colors\n",
    "pass"
   ]
  },
  {
   "cell_type": "markdown",
   "id": "e8f6g7h8-4g7h-5d8i-9f0e-7b5c9f6e1f8g",
   "metadata": {},
   "source": [
    "### Essential Map Elements\n",
    "\n",
    "Components that make a map complete and professional..."
   ]
  },
  {
   "cell_type": "code",
   "execution_count": null,
   "id": "map-elements",
   "metadata": {},
   "outputs": [],
   "source": [
    "# TODO: Demonstrate essential map elements\n",
    "# - Title: Clear, descriptive, informative\n",
    "# - Legend: Color bar with proper labels and units\n",
    "# - North arrow: When orientation isn't obvious\n",
    "# - Scale bar: For understanding distances\n",
    "# - Data source: Attribution and credibility\n",
    "# - Coordinate system: When relevant for analysis\n",
    "pass"
   ]
  },
  {
   "cell_type": "markdown",
   "id": "f9g0h1i2-5h8i-6e9j-af1f-8c6d0f7e2f9a",
   "metadata": {},
   "source": [
    "### Advanced Styling Techniques\n",
    "\n",
    "Professional touches that elevate your maps..."
   ]
  },
  {
   "cell_type": "code",
   "execution_count": null,
   "id": "advanced-styling",
   "metadata": {},
   "outputs": [],
   "source": [
    "# TODO: Show advanced styling techniques\n",
    "# - Edge colors and line weights\n",
    "# - Transparency and layering\n",
    "# - Font selection and sizing\n",
    "# - White space and layout\n",
    "# - Multiple data layers\n",
    "# - Annotations and callouts\n",
    "pass"
   ]
  },
  {
   "cell_type": "markdown",
   "id": "g0h1i2j3-6i9j-7f0k-bf2g-9d7e1f8e3f0b",
   "metadata": {},
   "source": [
    "### Handling Special Cases\n",
    "\n",
    "Dealing with common mapping challenges..."
   ]
  },
  {
   "cell_type": "code",
   "execution_count": null,
   "id": "special-cases",
   "metadata": {},
   "outputs": [],
   "source": [
    "# TODO: Handle special mapping cases\n",
    "# - Missing data (show as separate category)\n",
    "# - Extreme outliers (separate handling)\n",
    "# - Small polygons (minimum visible size)\n",
    "# - Projection distortion (choose appropriate CRS)\n",
    "# - Color contrast issues (accessibility)\n",
    "pass"
   ]
  },
  {
   "cell_type": "markdown",
   "id": "h1i2j3k4-7j0k-8g1l-cg3h-ae8f2f9e4g1c",
   "metadata": {},
   "source": [
    "### Implementing create_static_choropleth_map()\n",
    "\n",
    "Building a comprehensive choropleth mapping function..."
   ]
  },
  {
   "cell_type": "code",
   "execution_count": null,
   "id": "choropleth-implementation",
   "metadata": {},
   "outputs": [],
   "source": [
    "# TODO: Step-by-step implementation guide for create_static_choropleth_map()\n",
    "# Handle all classification methods, color schemes, and cartographic elements\n",
    "pass"
   ]
  },
  {
   "cell_type": "markdown",
   "id": "i2j3k4l5-8k1l-9h2m-dh4i-bf9f3f0e5h2d",
   "metadata": {},
   "source": [
    "## 🌐 Function 8: Interactive Web Maps\n",
    "\n",
    "Creating engaging, explorable web maps with Folium..."
   ]
  },
  {
   "cell_type": "markdown",
   "id": "j3k4l5m6-9l2m-0i3n-ei5j-cg0f4f1e6i3e",
   "metadata": {},
   "source": [
    "### Introduction to Folium\n",
    "\n",
    "Understanding the Folium library and web mapping concepts..."
   ]
  },
  {
   "cell_type": "code",
   "execution_count": null,
   "id": "folium-introduction",
   "metadata": {},
   "outputs": [],
   "source": [
    "# TODO: Introduce Folium concepts\n",
    "# - Leaflet.js foundation\n",
    "# - Tile-based mapping\n",
    "# - Interactive elements\n",
    "# - Web map vs static map trade-offs\n",
    "# - When to use interactive maps\n",
    "pass"
   ]
  },
  {
   "cell_type": "markdown",
   "id": "k4l5m6n7-0m3n-1j4o-fj6k-dh1f5f2e7j4f",
   "metadata": {},
   "source": [
    "### Base Map Selection\n",
    "\n",
    "Choosing appropriate background tiles for your data..."
   ]
  },
  {
   "cell_type": "code",
   "execution_count": null,
   "id": "base-map-selection",
   "metadata": {},
   "outputs": [],
   "source": [
    "# TODO: Demonstrate different base map options\n",
    "# - OpenStreetMap: General purpose, detailed\n",
    "# - CartoDB Positron: Clean, minimal, good for data overlay\n",
    "# - CartoDB Dark Matter: Dark theme, good for bright data\n",
    "# - Stamen Terrain: Topographic, good for environmental data\n",
    "# - Custom tile sources\n",
    "# - How base map affects data visibility\n",
    "pass"
   ]
  },
  {
   "cell_type": "markdown",
   "id": "l5m6n7o8-1n4o-2k5p-gk7l-eh2f6f3e8k5g",
   "metadata": {},
   "source": [
    "### Point Data Visualization\n",
    "\n",
    "Different ways to display point features interactively..."
   ]
  },
  {
   "cell_type": "code",
   "execution_count": null,
   "id": "point-visualization",
   "metadata": {},
   "outputs": [],
   "source": [
    "# TODO: Show point visualization options\n",
    "# - Simple markers with popups\n",
    "# - Colored markers based on attributes\n",
    "# - Proportional symbols (size by value)\n",
    "# - Clustering for dense point data\n",
    "# - Custom icons and symbols\n",
    "pass"
   ]
  },
  {
   "cell_type": "markdown",
   "id": "m6n7o8p9-2o5p-3l6q-hl8m-fi3f7f4e9l6h",
   "metadata": {},
   "source": [
    "### Polygon and Line Visualization\n",
    "\n",
    "Styling areal and linear features for web display..."
   ]
  },
  {
   "cell_type": "code",
   "execution_count": null,
   "id": "polygon-line-visualization",
   "metadata": {},
   "outputs": [],
   "source": [
    "# TODO: Demonstrate polygon and line styling\n",
    "# - Fill colors and opacity\n",
    "# - Stroke colors and weights\n",
    "# - Choropleth mapping in Folium\n",
    "# - Style functions for dynamic styling\n",
    "# - Highlighting on hover\n",
    "pass"
   ]
  },
  {
   "cell_type": "markdown",
   "id": "n7o8p9q0-3p6q-4m7r-im9n-gj4f8f5e0m7i",
   "metadata": {},
   "source": [
    "### Interactive Elements\n",
    "\n",
    "Adding popups, tooltips, and controls..."
   ]
  },
  {
   "cell_type": "code",
   "execution_count": null,
   "id": "interactive-elements",
   "metadata": {},
   "outputs": [],
   "source": [
    "# TODO: Demonstrate interactive elements\n",
    "# - Popups with formatted HTML content\n",
    "# - Tooltips for quick information\n",
    "# - Layer controls for multiple datasets\n",
    "# - Zoom controls and extent fitting\n",
    "# - Fullscreen and measurement tools\n",
    "pass"
   ]
  },
  {
   "cell_type": "markdown",
   "id": "o8p9q0r1-4q7r-5n8s-jn0o-hk5f9f6e1n8j",
   "metadata": {},
   "source": [
    "### Multi-Layer Maps\n",
    "\n",
    "Combining multiple datasets in one interactive map..."
   ]
  },
  {
   "cell_type": "code",
   "execution_count": null,
   "id": "multi-layer-maps",
   "metadata": {},
   "outputs": [],
   "source": [
    "# TODO: Create multi-layer interactive maps\n",
    "# - Points over polygons\n",
    "# - Multiple thematic layers\n",
    "# - Layer groups and organization\n",
    "# - Conditional layer display\n",
    "# - Managing layer order and visibility\n",
    "pass"
   ]
  },
  {
   "cell_type": "markdown",
   "id": "p9q0r1s2-5r8s-6o9t-ko1p-il6f0f7e2o9k",
   "metadata": {},
   "source": [
    "### Performance Optimization for Web Maps\n",
    "\n",
    "Making interactive maps load quickly and run smoothly..."
   ]
  },
  {
   "cell_type": "code",
   "execution_count": null,
   "id": "web-map-optimization",
   "metadata": {},
   "outputs": [],
   "source": [
    "# TODO: Demonstrate performance optimization\n",
    "# - Geometry simplification for web display\n",
    "# - Coordinate system considerations (WGS84)\n",
    "# - Clustering for dense point data\n",
    "# - Limiting popup content size\n",
    "# - Appropriate zoom level ranges\n",
    "# - File size considerations\n",
    "pass"
   ]
  },
  {
   "cell_type": "markdown",
   "id": "q0r1s2t3-6s9t-7p0u-lp2q-jm7f1f8e3p0l",
   "metadata": {},
   "source": [
    "### Advanced Folium Features\n",
    "\n",
    "Sophisticated interactive mapping capabilities..."
   ]
  },
  {
   "cell_type": "code",
   "execution_count": null,
   "id": "advanced-folium",
   "metadata": {},
   "outputs": [],
   "source": [
    "# TODO: Show advanced Folium features\n",
    "# - HeatMaps for density visualization\n",
    "# - MarkerCluster for grouped points\n",
    "# - Draw tools for user interaction\n",
    "# - MiniMap for navigation\n",
    "# - Custom JavaScript integration\n",
    "# - Animation and time-based data\n",
    "pass"
   ]
  },
  {
   "cell_type": "markdown",
   "id": "r1s2t3u4-7t0u-8q1v-mq3r-kn8f2f9e4q1m",
   "metadata": {},
   "source": [
    "### Implementing generate_interactive_map()\n",
    "\n",
    "Creating a flexible interactive mapping function..."
   ]
  },
  {
   "cell_type": "code",
   "execution_count": null,
   "id": "interactive-map-implementation",
   "metadata": {},
   "outputs": [],
   "source": [
    "# TODO: Step-by-step implementation guide for generate_interactive_map()\n",
    "# Handle different geometry types, base maps, and interactive elements\n",
    "pass"
   ]
  },
  {
   "cell_type": "markdown",
   "id": "s2t3u4v5-8u1v-9r2w-nr4s-lo9f3f0e5r2n",
   "metadata": {},
   "source": [
    "## 🎨 Cartographic Design Principles\n",
    "\n",
    "Professional principles that make maps effective and beautiful..."
   ]
  },
  {
   "cell_type": "markdown",
   "id": "t3u4v5w6-9v2w-0s3x-os5t-mp0f4f1e6s3o",
   "metadata": {},
   "source": [
    "### Visual Hierarchy\n",
    "\n",
    "Guiding the viewer's eye to what matters most..."
   ]
  },
  {
   "cell_type": "code",
   "execution_count": null,
   "id": "visual-hierarchy",
   "metadata": {},
   "outputs": [],
   "source": [
    "# TODO: Demonstrate visual hierarchy principles\n",
    "# - Most important elements should stand out\n",
    "# - Use contrast, color, and size strategically\n",
    "# - Background elements should recede\n",
    "# - Clear reading order and flow\n",
    "pass"
   ]
  },
  {
   "cell_type": "markdown",
   "id": "u4v5w6x7-0w3x-1t4y-pt6u-nq1f5f2e7t4p",
   "metadata": {},
   "source": [
    "### Color Theory for Maps\n",
    "\n",
    "Using color effectively to communicate data..."
   ]
  },
  {
   "cell_type": "code",
   "execution_count": null,
   "id": "color-theory",
   "metadata": {},
   "outputs": [],
   "source": [
    "# TODO: Apply color theory to mapping\n",
    "# - Warm vs cool colors for emphasis\n",
    "# - Complementary colors for contrast\n",
    "# - Analogous colors for harmony\n",
    "# - Cultural color associations\n",
    "# - Accessibility and universal design\n",
    "pass"
   ]
  },
  {
   "cell_type": "markdown",
   "id": "v5w6x7y8-1x4y-2u5z-qu7v-or2f6f3e8u5q",
   "metadata": {},
   "source": [
    "### Typography in Maps\n",
    "\n",
    "Choosing and styling text elements effectively..."
   ]
  },
  {
   "cell_type": "code",
   "execution_count": null,
   "id": "map-typography",
   "metadata": {},
   "outputs": [],
   "source": [
    "# TODO: Demonstrate map typography principles\n",
    "# - Font selection for different elements\n",
    "# - Size hierarchy for titles, labels, legends\n",
    "# - Readability and contrast\n",
    "# - Placement and alignment\n",
    "# - Avoiding text overload\n",
    "pass"
   ]
  },
  {
   "cell_type": "markdown",
   "id": "w6x7y8z9-2y5z-3v6a-rv8w-ps3f7f4e9v6r",
   "metadata": {},
   "source": [
    "## 🧪 Testing Your Visualization Functions\n",
    "\n",
    "Validating that your mapping functions work correctly..."
   ]
  },
  {
   "cell_type": "code",
   "execution_count": null,
   "id": "testing-examples",
   "metadata": {},
   "outputs": [],
   "source": [
    "# TODO: Comprehensive testing examples\n",
    "# - Test choropleth maps with different data types\n",
    "# - Test interactive maps with various geometry combinations\n",
    "# - Validate color schemes and classifications\n",
    "# - Check accessibility and responsiveness\n",
    "# - Performance testing with larger datasets\n",
    "pass"
   ]
  },
  {
   "cell_type": "markdown",
   "id": "x7y8z9a0-3z6a-4w7b-sw9x-qt4f8f5e0w7s",
   "metadata": {},
   "source": [
    "## 📊 Comparing Static vs Interactive Maps\n",
    "\n",
    "When to use each approach..."
   ]
  },
  {
   "cell_type": "code",
   "execution_count": null,
   "id": "static-vs-interactive",
   "metadata": {},
   "outputs": [],
   "source": [
    "# TODO: Compare static vs interactive mapping\n",
    "# Static maps: Reports, presentations, print, single message\n",
    "# Interactive maps: Exploration, web dashboards, multiple audiences\n",
    "# Show same data in both formats\n",
    "# Discuss advantages and limitations of each\n",
    "pass"
   ]
  },
  {
   "cell_type": "markdown",
   "id": "y8z9a0b1-4a7b-5x8c-tx0y-ru5f9f6e1x8t",
   "metadata": {},
   "source": [
    "## 🌟 Professional Applications\n",
    "\n",
    "How different industries use spatial visualization..."
   ]
  },
  {
   "cell_type": "code",
   "execution_count": null,
   "id": "professional-applications",
   "metadata": {},
   "outputs": [],
   "source": [
    "# TODO: Show professional visualization examples\n",
    "# - Environmental reports: Static maps for official documents\n",
    "# - Urban planning: Interactive maps for public engagement\n",
    "# - Public health: Dashboards for monitoring and response\n",
    "# - Business intelligence: Interactive exploration tools\n",
    "# - Real estate: Interactive property and neighborhood maps\n",
    "# - Emergency management: Real-time situational awareness maps\n",
    "pass"
   ]
  },
  {
   "cell_type": "markdown",
   "id": "z9a0b1c2-5b8c-6y9d-uy1z-sv6f0f7e2y9u",
   "metadata": {},
   "source": [
    "## 🔄 Complete Visualization Workflow\n",
    "\n",
    "Integrating analysis and visualization for maximum impact..."
   ]
  },
  {
   "cell_type": "code",
   "execution_count": null,
   "id": "complete-visualization-workflow",
   "metadata": {},
   "outputs": [],
   "source": [
    "# TODO: Demonstrate complete analysis-to-visualization workflow\n",
    "# Example: Environmental Justice Analysis\n",
    "# 1. Load and validate environmental and demographic data\n",
    "# 2. Calculate geometric properties (buffer zones around industrial sites)\n",
    "# 3. Perform spatial join (find communities in impact zones)\n",
    "# 4. Aggregate data (summarize demographics by impact level)\n",
    "# 5. Filter results (high-risk communities)\n",
    "# 6. Create static map for report\n",
    "# 7. Create interactive map for public engagement\n",
    "# 8. Compare effectiveness of different visualization approaches\n",
    "pass"
   ]
  },
  {
   "cell_type": "markdown",
   "id": "a0b1c2d3-6c9d-7z0e-vz2a-tw7f1f8e3z0v",
   "metadata": {},
   "source": [
    "## 🎯 Key Takeaways\n",
    "\n",
    "After completing this notebook, you should understand:\n",
    "\n",
    "✅ **Static mapping** - Creating publication-quality choropleth maps  \n",
    "✅ **Interactive mapping** - Building engaging web maps with Folium  \n",
    "✅ **Cartographic design** - Professional principles for effective maps  \n",
    "✅ **Color and classification** - Choosing appropriate visual encoding methods  \n",
    "✅ **User experience** - Designing maps for different audiences and purposes  \n",
    "✅ **Performance optimization** - Making maps that load quickly and display clearly  \n",
    "\n",
    "## 📚 Final Implementation Steps\n",
    "\n",
    "1. **Implement** your two visualization functions in `src/spatial_analysis.py`\n",
    "2. **Test** your implementations with `uv run pytest tests/ -k \"mapping\" -v`\n",
    "3. **Run all tests** to ensure everything works together: `uv run pytest tests/ -v`\n",
    "4. **Create example workflows** using all your functions together\n",
    "5. **Submit your work** by pushing to GitHub!\n",
    "\n",
    "## 🎉 Congratulations!\n",
    "\n",
    "You've completed the advanced spatial analysis course! You now have professional capabilities in:\n",
    "- **Geometric operations** for measuring and transforming spatial features\n",
    "- **Spatial analysis** for finding relationships and patterns in data\n",
    "- **Professional visualization** for communicating results effectively\n",
    "\n",
    "**These are the core skills that GIS professionals use to solve real-world problems. Well done!** 🌟\n",
    "\n",
    "---\n",
    "\n",
    "### 🚀 What's Next?\n",
    "\n",
    "With these skills, you're ready for:\n",
    "- **Environmental consulting** - Impact assessments and monitoring\n",
    "- **Urban planning** - Development analysis and community engagement\n",
    "- **Public health** - Disease surveillance and service planning\n",
    "- **Business intelligence** - Market analysis and location optimization\n",
    "- **Research** - Spatial statistics and geographic analysis\n",
    "\n",
    "*Great maps don't just show data - they reveal insights, tell stories, and guide decisions. You now have the skills to create maps that matter. Go forth and make the world more spatially informed!* 🌍"
   ]
  }
 ],
 "metadata": {
  "kernelspec": {
   "display_name": "Python 3 (ipykernel)",
   "language": "python",
   "name": "python3"
  },
  "language_info": {
   "codemirror_mode": {
    "name": "ipython",
    "version": 3
   },
   "file_extension": ".py",
   "mimetype": "text/x-python",
   "name": "python",
   "nbconvert_exporter": "python",
   "version": "3.11.5"
  }
 },
 "nbformat": 4,
 "nbformat_minor": 5
}
