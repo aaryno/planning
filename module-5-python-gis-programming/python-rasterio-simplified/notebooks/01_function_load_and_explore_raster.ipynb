{
 "cells": [
  {
   "cell_type": "markdown",
   "metadata": {},
   "source": [
    "# Function 1: Load and Explore Raster Data 🗺️\n",
    "\n",
    "**Welcome to your first rasterio function!**\n",
    "\n",
    "In this notebook, you'll learn how to build the `load_and_explore_raster()` function step by step. This is like opening a GeoTIFF file in QGIS and checking its properties - but doing it programmatically with Python.\n",
    "\n",
    "## 🎯 What This Function Does\n",
    "- Opens a raster file (GeoTIFF, NetCDF, etc.) safely using rasterio\n",
    "- Extracts essential metadata: dimensions, number of bands, coordinate system\n",
    "- Gets spatial information: extent, pixel size, geographic bounds\n",
    "- Displays a clear summary of the raster properties\n",
    "- Handles errors gracefully (missing files, corrupt data)\n",
    "- Returns a structured dictionary with all the key information\n",
    "\n",
    "## 🔧 Function Signature\n",
    "```python\n",
    "def load_and_explore_raster(raster_path):\n",
    "    \"\"\"\n",
    "    Args:\n",
    "        raster_path (str): Path to raster file (e.g., 'data/elevation_dem.tif')\n",
    "    \n",
    "    Returns:\n",
    "        dict: Dictionary containing raster properties and metadata\n",
    "    \"\"\"\n",
    "```"
   ]
  },
  {
   "cell_type": "markdown",
   "metadata": {},
   "source": [
    "## 🚀 Step 1: Import Required Libraries\n",
    "\n",
    "First, let's import the libraries we need for raster processing:"
   ]
  },
  {
   "cell_type": "code",
   "execution_count": null,
   "metadata": {},
   "outputs": [],
   "source": [
    "import rasterio\n",
    "import numpy as np\n",
    "from pathlib import Path\n",
    "import os\n",
    "\n",
    "print(f\"✅ Rasterio version: {rasterio.__version__}\")\n",
    "print(f\"✅ NumPy version: {np.__version__}\")\n",
    "print(\"🗺️ Ready to work with raster data!\")"
   ]
  },
  {
   "cell_type": "markdown",
   "metadata": {},
   "source": [
    "## 📁 Step 2: Understanding Our Sample Data\n",
    "\n",
    "Before we load raster data, let's see what files we have available:"
   ]
  },
  {
   "cell_type": "code",
   "execution_count": null,
   "metadata": {},
   "outputs": [],
   "source": [
    "# Let's see what files we have in the data directory\n",
    "data_dir = Path('../data')  # Go up one level from notebooks, then into data\n",
    "\n",
    "if data_dir.exists():\n",
    "    print(\"📂 Files in data directory:\")\n",
    "    for file in data_dir.iterdir():\n",
    "        if file.is_file():\n",
    "            print(f\"   📄 {file.name} ({file.stat().st_size / 1024:.1f} KB)\")\nelse:\n",
    "    print(f\"❌ Directory not found: {data_dir}\")\n",
    "    print(f\"Current working directory: {Path.cwd()}\")"
   ]
  },
  {
   "cell_type": "markdown",
   "metadata": {},
   "source": [
    "## 🗺️ Step 3: Your First Raster File\n",
    "\n",
    "Let's start by opening our elevation data and seeing what rasterio tells us about it:"
   ]
  },
  {
   "cell_type": "code",
   "execution_count": null,
   "metadata": {},
   "outputs": [],
   "source": [
    "# Define the file path\n",
    "elevation_file = data_dir / 'elevation_dem.tif'\n",
    "\n",
    "print(f\"🎯 Loading raster file: {elevation_file}\")\n",
    "print(f\"📁 File exists: {elevation_file.exists()}\")\n",
    "\n",
    "if elevation_file.exists():\n",
    "    print(f\"📊 File size: {elevation_file.stat().st_size / 1024:.1f} KB\")\nelse:\n",
    "    print(\"❌ Elevation file not found. Check your data directory.\")"
   ]
  },
  {
   "cell_type": "markdown",
   "metadata": {},
   "source": [
    "## 🔓 Step 4: Opening a Raster File Safely\n",
    "\n",
    "**Key Concept**: Always use a context manager (`with` statement) when working with rasterio files. This ensures the file is properly closed even if an error occurs."
   ]
  },
  {
   "cell_type": "code",
   "execution_count": null,
   "metadata": {},
   "outputs": [],
   "source": [
    "# Open the raster file using a context manager\n",
    "try:\n",
    "    with rasterio.open(elevation_file) as src:\n",
    "        print(\"✅ Successfully opened the raster file!\")\n",
    "        print(f\"📏 Dimensions: {src.width} x {src.height} pixels\")\n",
    "        print(f\"📊 Number of bands: {src.count}\")\n",
    "        print(f\"🗂️ Data type: {src.dtypes[0]}\")\n",
    "        print(f\"📐 Coordinate Reference System: {src.crs}\")\n",
    "        \n",
    "except rasterio.RasterioIOError as e:\n",
    "    print(f\"❌ Error opening file: {e}\")\n",
    "except FileNotFoundError:\n",
    "    print(f\"❌ File not found: {elevation_file}\")"
   ]
  },
  {
   "cell_type": "markdown",
   "metadata": {},
   "source": [
    "## 📊 Step 5: Extracting Basic Metadata\n",
    "\n",
    "Let's dive deeper into the metadata that rasterio provides:"
   ]
  },
  {
   "cell_type": "code",
   "execution_count": null,
   "metadata": {},
   "outputs": [],
   "source": [
    "# Extract comprehensive metadata\n",
    "with rasterio.open(elevation_file) as src:\n",
    "    print(\"=== BASIC RASTER INFORMATION ===\")\n",
    "    print(f\"Width (columns): {src.width} pixels\")\n",
    "    print(f\"Height (rows): {src.height} pixels\")\n",
    "    print(f\"Number of bands: {src.count}\")\n",
    "    print(f\"Data type: {src.dtypes[0]}\")\n",
    "    print(f\"Driver (format): {src.driver}\")\n",
    "    \n",
    "    print(\"\\n=== SPATIAL INFORMATION ===\")\n",
    "    print(f\"Coordinate Reference System: {src.crs}\")\n",
    "    print(f\"NoData value: {src.nodata}\")\n",
    "    \n",
    "    # Get the spatial transform (how pixels map to coordinates)\n",
    "    transform = src.transform\n",
    "    print(f\"Pixel size X: {transform.a} degrees\")\n",
    "    print(f\"Pixel size Y: {abs(transform.e)} degrees\")  # abs() because Y is typically negative"
   ]
  },
  {
   "cell_type": "markdown",
   "metadata": {},
   "source": [
    "## 🌍 Step 6: Understanding Spatial Extent\n",
    "\n",
    "The spatial extent tells us the geographic boundaries of our raster:"
   ]
  },
  {
   "cell_type": "code",
   "execution_count": null,
   "metadata": {},
   "outputs": [],
   "source": [
    "# Get the geographic extent (bounding box)\n",
    "with rasterio.open(elevation_file) as src:\n",
    "    bounds = src.bounds\n",
    "    \n",
    "    print(\"=== GEOGRAPHIC EXTENT ===\")\n",
    "    print(f\"Left (West): {bounds.left:.6f}\")\n",
    "    print(f\"Bottom (South): {bounds.bottom:.6f}\")\n",
    "    print(f\"Right (East): {bounds.right:.6f}\")\n",
    "    print(f\"Top (North): {bounds.top:.6f}\")\n",
    "    \n",
    "    # Calculate the width and height in coordinate units\n",
    "    width_coords = bounds.right - bounds.left\n",
    "    height_coords = bounds.top - bounds.bottom\n",
    "    \n",
    "    print(f\"\\n=== EXTENT DIMENSIONS ===\")\n",
    "    print(f\"Width in coordinate units: {width_coords:.6f}\")\n",
    "    print(f\"Height in coordinate units: {height_coords:.6f}\")\n",
    "    \n",
    "    # If this is in degrees, we can give a rough distance estimate\n",
    "    if str(src.crs).startswith('EPSG:4326') or 'WGS84' in str(src.crs):\n",
    "        # Very rough approximation: 1 degree ≈ 111 km at equator\n",
    "        print(f\"\\n=== APPROXIMATE REAL-WORLD SIZE ===\")\n",
    "        print(f\"Width: ~{width_coords * 111:.1f} km\")\n",
    "        print(f\"Height: ~{height_coords * 111:.1f} km\")\n",
    "        print(\"(Note: This is a rough approximation for WGS84 coordinates)\")"
   ]
  },
  {
   "cell_type": "markdown",
   "metadata": {},
   "source": [
    "## 🔍 Step 7: Creating a Comprehensive Summary Function\n",
    "\n",
    "Now let's put it all together in a function that extracts and organizes all this information:"
   ]
  },
  {
   "cell_type": "code",
   "execution_count": null,
   "metadata": {},
   "outputs": [],
   "source": [
    "def explore_raster_detailed(raster_path):\n",
    "    \"\"\"\n",
    "    Detailed exploration of a raster file - this is similar to what\n",
    "    your assignment function should do, but more verbose for learning.\n",
    "    \"\"\"\n",
    "    try:\n",
    "        with rasterio.open(raster_path) as src:\n",
    "            # Basic properties\n",
    "            basic_info = {\n",
    "                'width': src.width,\n",
    "                'height': src.height,\n",
    "                'count': src.count,\n",
    "                'dtype': str(src.dtypes[0]),\n",
    "                'driver': src.driver,\n",
    "                'crs': str(src.crs),\n",
    "                'nodata': src.nodata\n",
    "            }\n",
    "            \n",
    "            # Spatial information\n",
    "            bounds = src.bounds\n",
    "            transform = src.transform\n",
    "            \n",
    "            spatial_info = {\n",
    "                'bounds': {\n",
    "                    'left': bounds.left,\n",
    "                    'bottom': bounds.bottom,\n",
    "                    'right': bounds.right,\n",
    "                    'top': bounds.top\n",
    "                },\n",
    "                'pixel_size_x': transform.a,\n",
    "                'pixel_size_y': abs(transform.e),\n",
    "                'width_coords': bounds.right - bounds.left,\n",
    "                'height_coords': bounds.top - bounds.bottom\n",
    "            }\n",
    "            \n",
    "            return {'basic': basic_info, 'spatial': spatial_info}\n",
    "            \n",
    "    except Exception as e:\n",
    "        print(f\"Error processing {raster_path}: {e}\")\n",
    "        return None\n",
    "\n",
    "# Test our function\n",
    "result = explore_raster_detailed(elevation_file)\n",
    "if result:\n",
    "    print(\"✅ Function worked! Here's what we got:\")\n",
    "    print(f\"Basic info keys: {list(result['basic'].keys())}\")\n",
    "    print(f\"Spatial info keys: {list(result['spatial'].keys())}\")"
   ]
  },
  {
   "cell_type": "markdown",
   "metadata": {},
   "source": [
    "## 🧪 Step 8: Testing with Different Raster Files\n",
    "\n",
    "Let's test our understanding with the other sample file (satellite imagery):"
   ]
  },
  {
   "cell_type": "code",
   "execution_count": null,
   "metadata": {},
   "outputs": [],
   "source": [
    "# Test with the Landsat sample file\n",
    "landsat_file = data_dir / 'landsat_sample.tif'\n",
    "\n",
    "if landsat_file.exists():\n",
    "    print(\"🛰️ LANDSAT SAMPLE ANALYSIS\")\n",
    "    print(\"=\" * 40)\n",
    "    \n",
    "    with rasterio.open(landsat_file) as src:\n",
    "        print(f\"Dimensions: {src.width} x {src.height} pixels\")\n",
    "        print(f\"Bands: {src.count}\")\n",
    "        print(f\"Data type: {src.dtypes[0]}\")\n",
    "        print(f\"CRS: {src.crs}\")\n",
    "        \n",
    "        # Multi-band files might have different data types per band\n",
    "        if src.count > 1:\n",
    "            print(f\"\\nBand data types:\")\n",
    "            for i in range(src.count):\n",
    "                print(f\"  Band {i+1}: {src.dtypes[i]}\")\n",
    "        \n",
    "        print(f\"\\nExtent: {src.bounds.left:.6f} to {src.bounds.right:.6f} (lon)\")\n",
    "        print(f\"        {src.bounds.bottom:.6f} to {src.bounds.top:.6f} (lat)\")\nelse:\n",
    "    print(\"🔍 Landsat sample not found - that's okay, we'll focus on elevation data\")"
   ]
  },
  {
   "cell_type": "markdown",
   "metadata": {},
   "source": [
    "## ⚠️ Step 9: Error Handling and Edge Cases\n",
    "\n",
    "Professional code needs to handle errors gracefully. Let's see what happens with common problems:"
   ]
  },
  {
   "cell_type": "code",
   "execution_count": null,
   "metadata": {},
   "outputs": [],
   "source": [
    "def safe_raster_exploration(raster_path):\n",
    "    \"\"\"\n",
    "    Example of robust error handling for raster files.\n",
    "    This shows the kind of error handling your function should include.\n",
    "    \"\"\"\n",
    "    print(f\"🔍 Attempting to load: {raster_path}\")\n",
    "    \n",
    "    # Check if file exists first\n",
    "    if not Path(raster_path).exists():\n",
    "        print(f\"❌ File does not exist: {raster_path}\")\n",
    "        return None\n",
    "    \n",
    "    try:\n",
    "        with rasterio.open(raster_path) as src:\n",
    "            # Try to read basic properties\n",
    "            info = {\n",
    "                'filename': Path(raster_path).name,\n",
    "                'width': src.width,\n",
    "                'height': src.height,\n",
    "                'count': src.count,\n",
    "                'crs': str(src.crs)\n",
    "            }\n",
    "            print(f\"✅ Successfully loaded {info['filename']}\")\n",
    "            return info\n",
    "            \n",
    "    except rasterio.RasterioIOError as e:\n",
    "        print(f\"❌ Rasterio error: {e}\")\n",
    "        return None\n",
    "    except Exception as e:\n",
    "        print(f\"❌ Unexpected error: {e}\")\n",
    "        return None\n",
    "\n",
    "# Test with good file\n",
    "result1 = safe_raster_exploration(elevation_file)\n",
    "\n",
    "# Test with missing file\n",
    "result2 = safe_raster_exploration(data_dir / 'nonexistent_file.tif')\n",
    "\n",
    "print(f\"\\nResults: Good file = {result1 is not None}, Missing file = {result2 is not None}\")"
   ]
  },
  {
   "cell_type": "markdown",
   "metadata": {},
   "source": [
    "## 🎯 Step 10: Your Implementation Template\n",
    "\n",
    "Based on everything we've learned, here's the structure your `load_and_explore_raster()` function should follow:"
   ]
  },
  {
   "cell_type": "code",
   "execution_count": null,
   "metadata": {},
   "outputs": [],
   "source": [
    "def load_and_explore_raster_template(raster_path):\n",
    "    \"\"\"\n",
    "    Template for your assignment function.\n",
    "    This shows the structure and key elements you need to implement.\n",
    "    \"\"\"\n",
    "    # TODO: Import necessary libraries (rasterio, pathlib, etc.)\n",
    "    \n",
    "    # TODO: Check if file exists\n",
    "    # HINT: Use Path(raster_path).exists()\n",
    "    \n",
    "    # TODO: Open raster file safely with context manager\n",
    "    # HINT: Use 'with rasterio.open(raster_path) as src:'\n",
    "    \n",
    "    # TODO: Extract basic metadata\n",
    "    # HINT: src.width, src.height, src.count, src.crs, etc.\n",
    "    \n",
    "    # TODO: Get spatial extent information  \n",
    "    # HINT: src.bounds gives you left, bottom, right, top\n",
    "    \n",
    "    # TODO: Calculate pixel size from transform\n",
    "    # HINT: src.transform.a for X pixel size, abs(src.transform.e) for Y\n",
    "    \n",
    "    # TODO: Print a clear summary for the user\n",
    "    # HINT: Format output nicely with dimensions, extent, CRS info\n",
    "    \n",
    "    # TODO: Return a dictionary with all the key information\n",
    "    # HINT: Organize into logical groups (basic info, spatial info, etc.)\n",
    "    \n",
    "    # TODO: Handle errors appropriately\n",
    "    # HINT: FileNotFoundError, RasterioIOError, general Exception\n",
    "    \n",
    "    pass\n",
    "\n",
    "print(\"📝 This template shows the structure your function should follow.\")\n",
    "print(\"🎯 Remember to implement each TODO section in src/rasterio_basics.py\")"
   ]
  },
  {
   "cell_type": "markdown",
   "metadata": {},
   "source": [
    "## 📋 Step 11: Expected Output Format\n",
    "\n",
    "Here's what your function should return and print:"
   ]
  },
  {
   "cell_type": "code",
   "execution_count": null,
   "metadata": {},
   "outputs": [],
   "source": [
    "# Example of what your function should output\n",
    "expected_output_example = {\n",
    "    'filename': 'elevation_dem.tif',\n",
    "    'width': 1024,\n",
    "    'height': 768,\n",
    "    'count': 1,\n",
    "    'dtype': 'float32',\n",
    "    'driver': 'GTiff',\n",
    "    'crs': 'EPSG:4326',\n",
    "    'nodata': -9999.0,\n",
    "    'bounds': {\n",
    "        'left': -120.5,\n",
    "        'bottom': 35.0,\n",
    "        'right': -119.5,\n",
    "        'top': 36.0\n",
    "    },\n",
    "    'pixel_size_x': 0.001,\n",
    "    'pixel_size_y': 0.001,\n",
    "    'extent_width': 1.0,\n",
    "    'extent_height': 1.0\n",
    "}\n",
    "\n",
    "print(\"📊 Your function should return a dictionary similar to this structure:\")\n",
    "print(\"Keys to include:\")\n",
    "for key, value in expected_output_example.items():\n",
    "    print(f\"  '{key}': {type(value).__name__} - {value}\")\n",
    "\n",
    "print(\"\\n💡 Adapt the exact values based on your actual data files!\")"
   ]
  },
  {
   "cell_type": "markdown",
   "metadata": {},
   "source": [
    "## ✅ Step 12: Ready to Implement!\n",
    "\n",
    "Now you have everything you need to implement the `load_and_explore_raster()` function in `src/rasterio_basics.py`.\n",
    "\n",
    "### 🎯 Key Requirements:\n",
    "1. **Open raster files safely** using context managers\n",
    "2. **Extract comprehensive metadata** (dimensions, bands, CRS, etc.)\n",
    "3. **Calculate spatial properties** (extent, pixel size)\n",
    "4. **Print clear summary** for user understanding\n",
    "5. **Return structured data** as a dictionary\n",
    "6. **Handle errors gracefully** with appropriate messages\n",
    "\n",
    "### 🧪 Test Your Implementation:\n",
    "```bash\n",
    "uv run pytest tests/test_rasterio_basics.py::test_load_and_explore_raster -v\n",
    "```\n",
    "\n",
    "### 🔧 Debugging Tips:\n",
    "- **Start simple**: Get basic file opening working first\n",
    "- **Print intermediate values**: See what rasterio actually returns\n",
    "- **Test with both sample files**: Make sure it works with different data types\n",
    "- **Check return format**: Make sure your dictionary matches expected structure\n",
    "\n",
    "### 📚 Next Step:\n",
    "Once this function is working, move on to [`02_function_calculate_raster_statistics.ipynb`](02_function_calculate_raster_statistics.ipynb) to learn about analyzing pixel values!\n",
    "\n",
    "---\n",
    "\n",
    "**Good luck! 🍀 Remember: every expert was once a beginner who kept practicing!**"
   ]
  }
 ],
 "metadata": {
  "kernelspec": {
   "display_name": "Python 3",
   "language": "python",
   "name": "python3"
  },
  "language_info": {
   "codemirror_mode": {
    "name": "ipython",
    "version": 3
   },
   "file_extension": ".py",
   "mimetype": "text/x-python",
   "name": "python",
   "nbconvert_exporter": "python",
   "pygments_lexer": "ipython3",
   "version": "3.9.6"
  }
 },
 "nbformat": 4,
 "nbformat_minor": 4
}
