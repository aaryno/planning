{
 "cells": [
  {
   "cell_type": "markdown",
   "metadata": {},
   "source": [
    "# Function 3: Calculate Station Statistics 📈\n",
    "\n",
    "**Welcome to data aggregation with pandas!**\n",
    "\n",
    "In this notebook, you'll learn how to build the `calculate_station_statistics()` function step by step. This is like creating a summary report that shows statistics for each weather station.\n",
    "\n",
    "## 🎯 What This Function Does\n",
    "- Groups temperature readings by station ID\n",
    "- Calculates average temperature and humidity for each station\n",
    "- Counts how many readings each station has\n",
    "- Identifies the hottest and coolest stations\n",
    "- Returns a summary DataFrame with all statistics\n",
    "\n",
    "## 🔧 Function Signature\n",
    "```python\n",
    "def calculate_station_statistics(df):\n",
    "    \"\"\"\n",
    "    Args:\n",
    "        df (pandas.DataFrame): Environmental data with station_id, temperature_c, and humidity_percent columns\n",
    "    \n",
    "    Returns:\n",
    "        pandas.DataFrame: Statistics summary with columns:\n",
    "            - station_id: Station identifier\n",
    "            - avg_temperature: Mean temperature in Celsius\n",
    "            - avg_humidity: Mean humidity percentage\n",
    "            - reading_count: Number of readings for this station\n",
    "    \"\"\"\n",
    "```"
   ]
  },
  {
   "cell_type": "markdown",
   "metadata": {},
   "source": [
    "## 🚀 Step 1: Import Libraries and Load Data\n",
    "\n",
    "First, let's set up our environment and load the temperature readings data:"
   ]
  },
  {
   "cell_type": "code",
   "execution_count": null,
   "metadata": {},
   "outputs": [],
   "source": [
    "import pandas as pd\n",
    "import numpy as np\n",
    "import os\n",
    "\n",
    "print(f\"✅ Pandas version: {pd.__version__}\")\n",
    "print(\"📊 Ready to calculate statistics!\")"
   ]
  },
  {
   "cell_type": "code",
   "execution_count": null,
   "metadata": {},
   "outputs": [],
   "source": [
    "# Load the temperature readings data\n",
    "file_path = '../data/temperature_readings.csv'\n",
    "df = pd.read_csv(file_path)\n",
    "\n",
    "print(f\"📊 Loaded {len(df)} temperature readings\")\n",
    "print(f\"📋 Columns: {list(df.columns)}\")\n",
    "print(\"\\n🔍 First 5 rows:\")\n",
    "display(df.head())"
   ]
  },
  {
   "cell_type": "markdown",
   "metadata": {},
   "source": [
    "## 🏷️ Step 2: Understanding Your Data Structure\n",
    "\n",
    "Before calculating statistics, let's understand how many stations we have and what data is available:"
   ]
  },
  {
   "cell_type": "code",
   "execution_count": null,
   "metadata": {},
   "outputs": [],
   "source": [
    "# Explore the stations in our data\n",
    "print(\"🏪 STATION OVERVIEW:\")\n",
    "unique_stations = df['station_id'].unique()\n",
    "print(f\"   Total stations: {len(unique_stations)}\")\n",
    "print(f\"   Station IDs: {list(unique_stations)}\")\n",
    "\n",
    "print(\"\\n📊 DATA DISTRIBUTION:\")\n",
    "station_counts = df['station_id'].value_counts()\n",
    "print(f\"   Readings per station:\")\n",
    "for station, count in station_counts.items():\n",
    "    print(f\"      {station}: {count} readings\")\n",
    "\n",
    "print(f\"\\n📈 Overall data summary:\")\n",
    "print(f\"   Temperature range: {df['temperature_c'].min():.1f}°C to {df['temperature_c'].max():.1f}°C\")\n",
    "print(f\"   Humidity range: {df['humidity_percent'].min():.1f}% to {df['humidity_percent'].max():.1f}%\")\n",
    "print(f\"   Average temperature: {df['temperature_c'].mean():.1f}°C\")\n",
    "print(f\"   Average humidity: {df['humidity_percent'].mean():.1f}%\")"
   ]
  },
  {
   "cell_type": "markdown",
   "metadata": {},
   "source": [
    "## 🔍 Step 3: Introduction to GroupBy Operations\n",
    "\n",
    "The `groupby()` function is one of the most powerful features in pandas. It allows you to:\n",
    "1. **Split** your data into groups based on some criteria\n",
    "2. **Apply** a function to each group\n",
    "3. **Combine** the results back into a DataFrame\n",
    "\n",
    "Let's start with simple examples:"
   ]
  },
  {
   "cell_type": "code",
   "execution_count": null,
   "metadata": {},
   "outputs": [],
   "source": [
    "# Basic groupby - group by station and look at one statistic\n",
    "print(\"📊 BASIC GROUPBY EXAMPLE:\\n\")\n",
    "\n",
    "# Group by station_id and calculate mean temperature\n",
    "avg_temps = df.groupby('station_id')['temperature_c'].mean()\n",
    "print(\"🌡️  Average temperature by station:\")\n",
    "for station, temp in avg_temps.items():\n",
    "    print(f\"   {station}: {temp:.1f}°C\")\n",
    "\n",
    "print(f\"\\n📊 Type of result: {type(avg_temps)}\")\n",
    "print(f\"📏 Shape: {avg_temps.shape}\")"
   ]
  },
  {
   "cell_type": "code",
   "execution_count": null,
   "metadata": {},
   "outputs": [],
   "source": [
    "# Let's see what groupby actually creates\n",
    "print(\"🔍 UNDERSTANDING GROUPBY OBJECTS:\\n\")\n",
    "\n",
    "# Create a groupby object\n",
    "grouped = df.groupby('station_id')\n",
    "print(f\"GroupBy object: {grouped}\")\n",
    "print(f\"Number of groups: {grouped.ngroups}\")\n",
    "\n",
    "# Look at one group\n",
    "print(\"\\n📋 Example: Data for station STN_001:\")\n",
    "stn_001_data = grouped.get_group('STN_001')\n",
    "display(stn_001_data[['station_id', 'temperature_c', 'humidity_percent']].head())"
   ]
  },
  {
   "cell_type": "markdown",
   "metadata": {},
   "source": [
    "## 📊 Step 4: Calculating Multiple Statistics\n",
    "\n",
    "Now let's calculate multiple statistics for each station:"
   ]
  },
  {
   "cell_type": "code",
   "execution_count": null,
   "metadata": {},
   "outputs": [],
   "source": [
    "# Calculate multiple statistics for temperature\n",
    "print(\"🌡️  TEMPERATURE STATISTICS BY STATION:\\n\")\n",
    "\n",
    "temp_stats = df.groupby('station_id')['temperature_c'].agg([\n",
    "    'count',  # Number of readings\n",
    "    'mean',   # Average temperature\n",
    "    'min',    # Minimum temperature\n",
    "    'max',    # Maximum temperature\n",
    "    'std'     # Standard deviation\n",
    "])\n",
    "\n",
    "# Round to make it readable\n",
    "temp_stats = temp_stats.round(1)\n",
    "print(\"📊 Temperature statistics:\")\n",
    "display(temp_stats)"
   ]
  },
  {
   "cell_type": "code",
   "execution_count": null,
   "metadata": {},
   "outputs": [],
   "source": [
    "# Calculate statistics for multiple columns\n",
    "print(\"🌡️💧 TEMPERATURE AND HUMIDITY STATISTICS:\\n\")\n",
    "\n",
    "# Method 1: Using agg() with multiple columns\n",
    "multi_stats = df.groupby('station_id').agg({\n",
    "    'temperature_c': ['mean', 'min', 'max'],\n",
    "    'humidity_percent': ['mean', 'min', 'max']\n",
    "})\n",
    "\n",
    "# Round the results\n",
    "multi_stats = multi_stats.round(1)\n",
    "print(\"📊 Multi-column statistics:\")\n",
    "display(multi_stats)"
   ]
  },
  {
   "cell_type": "markdown",
   "metadata": {},
   "source": [
    "## 🔢 Step 5: Simpler Statistics with Individual Operations\n",
    "\n",
    "Sometimes it's clearer to calculate statistics one at a time:"
   ]
  },
  {
   "cell_type": "code",
   "execution_count": null,
   "metadata": {},
   "outputs": [],
   "source": [
    "# Calculate each statistic individually\n",
    "print(\"📊 INDIVIDUAL STATISTICS CALCULATION:\\n\")\n",
    "\n",
    "# Group by station and calculate each metric\n",
    "grouped_data = df.groupby('station_id')\n",
    "\n",
    "# Calculate individual statistics\n",
    "avg_temperature = grouped_data['temperature_c'].mean()\n",
    "avg_humidity = grouped_data['humidity_percent'].mean()\n",
    "reading_counts = grouped_data.size()  # Count of all rows per group\n",
    "\n",
    "print(\"🌡️  Average temperatures:\")\n",
    "print(avg_temperature.round(1))\n",
    "\n",
    "print(\"\\n💧 Average humidity:\")\n",
    "print(avg_humidity.round(1))\n",
    "\n",
    "print(\"\\n📊 Reading counts:\")\n",
    "print(reading_counts)"
   ]
  },
  {
   "cell_type": "markdown",
   "metadata": {},
   "source": [
    "## 🏗️ Step 6: Creating a Summary DataFrame\n",
    "\n",
    "Now let's combine all statistics into a single, clean DataFrame:"
   ]
  },
  {
   "cell_type": "code",
   "execution_count": null,
   "metadata": {},
   "outputs": [],
   "source": [
    "# Create a comprehensive summary DataFrame\n",
    "print(\"📋 CREATING STATION STATISTICS SUMMARY:\\n\")\n",
    "\n",
    "# Method 1: Create from individual Series\n",
    "summary_df = pd.DataFrame({\n",
    "    'avg_temperature': avg_temperature.round(1),\n",
    "    'avg_humidity': avg_humidity.round(1),\n",
    "    'reading_count': reading_counts\n",
    "})\n",
    "\n",
    "# Reset index to make station_id a column\n",
    "summary_df = summary_df.reset_index()\n",
    "\n",
    "print(\"📊 Station Statistics Summary:\")\n",
    "display(summary_df)\n",
    "\n",
    "print(f\"\\n📏 Summary shape: {summary_df.shape}\")\n",
    "print(f\"📋 Columns: {list(summary_df.columns)}\")"
   ]
  },
  {
   "cell_type": "markdown",
   "metadata": {},
   "source": [
    "## 🔍 Step 7: Finding Extremes - Hottest and Coolest Stations\n",
    "\n",
    "Let's identify which stations have the highest and lowest average temperatures:"
   ]
  },
  {
   "cell_type": "code",
   "execution_count": null,
   "metadata": {},
   "outputs": [],
   "source": [
    "# Find stations with extreme temperatures\n",
    "print(\"🌡️  TEMPERATURE EXTREMES:\\n\")\n",
    "\n",
    "# Sort by average temperature\n",
    "sorted_by_temp = summary_df.sort_values('avg_temperature', ascending=False)\n",
    "\n",
    "# Find hottest station\n",
    "hottest_station = sorted_by_temp.iloc[0]\n",
    "print(f\"🔥 Hottest station: {hottest_station['station_id']} ({hottest_station['avg_temperature']}°C)\")\n",
    "print(f\"   Humidity: {hottest_station['avg_humidity']}%\")\n",
    "print(f\"   Readings: {hottest_station['reading_count']}\")\n",
    "\n",
    "# Find coolest station\n",
    "coolest_station = sorted_by_temp.iloc[-1]\n",
    "print(f\"\\n❄️  Coolest station: {coolest_station['station_id']} ({coolest_station['avg_temperature']}°C)\")\n",
    "print(f\"   Humidity: {coolest_station['avg_humidity']}%\")\n",
    "print(f\"   Readings: {coolest_station['reading_count']}\")\n",
    "\n",
    "print(\"\\n📊 All stations ranked by temperature:\")\n",
    "display(sorted_by_temp)"
   ]
  },
  {
   "cell_type": "code",
   "execution_count": null,
   "metadata": {},
   "outputs": [],
   "source": [
    "# Alternative method using idxmax() and idxmin()\n",
    "print(\"🔍 ALTERNATIVE METHOD - Using idxmax/idxmin:\\n\")\n",
    "\n",
    "# Find indices of max and min temperatures\n",
    "hottest_idx = summary_df['avg_temperature'].idxmax()\n",
    "coolest_idx = summary_df['avg_temperature'].idxmin()\n",
    "\n",
    "print(f\"🔥 Hottest station (method 2): {summary_df.loc[hottest_idx, 'station_id']} ({summary_df.loc[hottest_idx, 'avg_temperature']}°C)\")\n",
    "print(f\"❄️  Coolest station (method 2): {summary_df.loc[coolest_idx, 'station_id']} ({summary_df.loc[coolest_idx, 'avg_temperature']}°C)\")"
   ]
  },
  {
   "cell_type": "markdown",
   "metadata": {},
   "source": [
    "## 🎨 Step 8: Adding More Detailed Analysis\n",
    "\n",
    "Let's add some additional insights to our statistics:"
   ]
  },
  {
   "cell_type": "code",
   "execution_count": null,
   "metadata": {},
   "outputs": [],
   "source": [
    "# Add more statistical measures\n",
    "print(\"📈 DETAILED STATION ANALYSIS:\\n\")\n",
    "\n",
    "# Calculate additional statistics\n",
    "detailed_stats = df.groupby('station_id').agg({\n",
    "    'temperature_c': ['mean', 'std', 'min', 'max'],\n",
    "    'humidity_percent': ['mean', 'std'],\n",
    "    'station_id': 'count'  # This gives us the count\n",
    "}).round(2)\n",
    "\n",
    "# Flatten column names\n",
    "detailed_stats.columns = ['_'.join(col).strip() for col in detailed_stats.columns]\n",
    "detailed_stats = detailed_stats.rename(columns={'station_id_count': 'reading_count'})\n",
    "\n",
    "print(\"📊 Detailed statistics:\")\n",
    "display(detailed_stats)\n",
    "\n",
    "# Calculate temperature range for each station\n",
    "detailed_stats['temp_range'] = detailed_stats['temperature_c_max'] - detailed_stats['temperature_c_min']\n",
    "\n",
    "print(\"\\n🌡️  Temperature variability by station:\")\n",
    "temp_variability = detailed_stats[['temperature_c_std', 'temp_range']].sort_values('temperature_c_std', ascending=False)\n",
    "print(\"(Higher std = more variable temperatures)\")\n",
    "display(temp_variability)"
   ]
  },
  {
   "cell_type": "markdown",
   "metadata": {},
   "source": [
    "## 🏗️ Step 9: Building the Complete Function\n",
    "\n",
    "Now let's put everything together into the complete `calculate_station_statistics()` function:"
   ]
  },
  {
   "cell_type": "code",
   "execution_count": null,
   "metadata": {},
   "outputs": [],
   "source": [
    "def calculate_station_statistics(df):\n",
    "    \"\"\"\n",
    "    Calculate comprehensive statistics for each weather station.\n",
    "    \n",
    "    This function demonstrates pandas groupby operations to aggregate\n",
    "    environmental data and identify patterns across monitoring stations.\n",
    "    \n",
    "    Args:\n",
    "        df (pandas.DataFrame): Environmental data with required columns:\n",
    "            - station_id: Station identifier\n",
    "            - temperature_c: Temperature in Celsius\n",
    "            - humidity_percent: Relative humidity percentage\n",
    "            \n",
    "    Returns:\n",
    "        pandas.DataFrame: Statistics summary with columns:\n",
    "            - station_id: Station identifier\n",
    "            - avg_temperature: Mean temperature in Celsius\n",
    "            - avg_humidity: Mean humidity percentage  \n",
    "            - reading_count: Number of readings for this station\n",
    "    \"\"\"\n",
    "    \n",
    "    print(\"=\" * 50)\n",
    "    print(\"CALCULATING STATION STATISTICS\")\n",
    "    print(\"=\" * 50)\n",
    "    \n",
    "    # Input validation\n",
    "    if df is None or df.empty:\n",
    "        print(\"❌ ERROR: Empty or None DataFrame provided\")\n",
    "        return pd.DataFrame()\n",
    "    \n",
    "    # Check for required columns\n",
    "    required_columns = ['station_id', 'temperature_c', 'humidity_percent']\n",
    "    missing_columns = [col for col in required_columns if col not in df.columns]\n",
    "    \n",
    "    if missing_columns:\n",
    "        print(f\"❌ ERROR: Missing required columns: {missing_columns}\")\n",
    "        print(f\"📋 Available columns: {list(df.columns)}\")\n",
    "        return pd.DataFrame()\n",
    "    \n",
    "    print(f\"📊 Processing {len(df)} environmental readings\")\n",
    "    \n",
    "    # Get basic info about stations\n",
    "    unique_stations = df['station_id'].unique()\n",
    "    print(f\"🏪 Found {len(unique_stations)} unique stations: {list(unique_stations)}\")\n",
    "    \n",
    "    # Group by station and calculate statistics\n",
    "    print(f\"\\n🔢 CALCULATING STATISTICS...\")\n",
    "    \n",
    "    grouped_data = df.groupby('station_id')\n",
    "    \n",
    "    # Calculate individual statistics\n",
    "    avg_temperature = grouped_data['temperature_c'].mean()\n",
    "    avg_humidity = grouped_data['humidity_percent'].mean()\n",
    "    reading_counts = grouped_data.size()\n",
    "    \n",
    "    # Create summary DataFrame\n",
    "    stats_df = pd.DataFrame({\n",
    "        'station_id': avg_temperature.index,\n",
    "        'avg_temperature': avg_temperature.values.round(1),\n",
    "        'avg_humidity': avg_humidity.values.round(1),\n",
    "        'reading_count': reading_counts.values\n",
    "    })\n",
    "    \n",
    "    # Reset index to make it clean\n",
    "    stats_df = stats_df.reset_index(drop=True)\n",
    "    \n",
    "    print(f\"✅ Statistics calculated for {len(stats_df)} stations\")\n",
    "    \n",
    "    # Show summary of results\n",
    "    print(f\"\\n📊 STATION STATISTICS SUMMARY:\")\n",
    "    print(f\"   Temperature range: {stats_df['avg_temperature'].min()}°C to {stats_df['avg_temperature'].max()}°C\")\n",
    "    print(f\"   Humidity range: {stats_df['avg_humidity'].min()}% to {stats_df['avg_humidity'].max()}%\")\n",
    "    print(f\"   Total readings: {stats_df['reading_count'].sum()}\")\n",
    "    print(f\"   Average readings per station: {stats_df['reading_count'].mean():.1f}\")\n",
    "    \n",
    "    # Find temperature extremes\n",
    "    hottest_idx = stats_df['avg_temperature'].idxmax()\n",
    "    coolest_idx = stats_df['avg_temperature'].idxmin()\n",
    "    \n",
    "    hottest_station = stats_df.loc[hottest_idx]\n",
    "    coolest_station = stats_df.loc[coolest_idx]\n",
    "    \n",
    "    print(f\"\\n🌡️  TEMPERATURE EXTREMES:\")\n",
    "    print(f\"   🔥 Hottest station: {hottest_station['station_id']} (avg: {hottest_station['avg_temperature']}°C)\")\n",
    "    print(f\"   ❄️  Coolest station: {coolest_station['station_id']} (avg: {coolest_station['avg_temperature']}°C)\")\n",
    "    \n",
    "    # Show the complete table\n",
    "    print(f\"\\n📋 COMPLETE STATISTICS TABLE:\")\n",
    "    print(stats_df.to_string(index=False))\n",
    "    \n",
    "    print(f\"\\n✅ Station statistics calculation complete!\")\n",
    "    \n",
    "    return stats_df"
   ]
  },
  {
   "cell_type": "markdown",
   "metadata": {},
   "source": [
    "## ✨ Step 10: Test Your Complete Function\n",
    "\n",
    "Let's test our complete function with different scenarios:"
   ]
  },
  {
   "cell_type": "code",
   "execution_count": null,
   "metadata": {},
   "outputs": [],
   "source": [
    "# Test 1: Full dataset\n",
    "print(\"🧪 TEST 1: FULL TEMPERATURE DATASET\\n\")\n",
    "result1 = calculate_station_statistics(df)"
   ]
  },
  {
   "cell_type": "code",
   "execution_count": null,
   "metadata": {},
   "outputs": [],
   "source": [
    "# Test 2: Filtered dataset (only good quality data)\n",
    "print(\"\\n\" + \"=\"*80 + \"\\n\")\n",
    "print(\"🧪 TEST 2: FILTERED DATASET (Good Quality Only)\\n\")\n",
    "\n",
    "# Filter for good quality data first\n",
    "good_quality_df = df[df['data_quality'] == 'good']\n",
    "print(f\"📊 Filtered to {len(good_quality_df)} good quality readings (from {len(df)} total)\")\n",
    "print()\n",
    "\n",
    "result2 = calculate_station_statistics(good_quality_df)"
   ]
  },
  {
   "cell_type": "code",
   "execution_count": null,
   "metadata": {},
   "outputs": [],
   "source": [
    "# Test 3: Single station data\n",
    "print(\"\\n\" + \"=\"*80 + \"\\n\")\n",
    "print(\"🧪 TEST 3: SINGLE STATION DATA (STN_001 only)\\n\")\n",
    "\n",
    "single_station_df = df[df['station_id'] == 'STN_001']\n",
    "print(f\"📊 Filtered to {len(single_station_df)} readings from station STN_001\")\n",
    "print()\n",
    "\n",
    "result3 = calculate_station_statistics(single_station_df)"
   ]
  },
  {
   "cell_type": "code",
   "execution_count": null,
   "metadata": {},
   "outputs": [],
   "source": [
    "# Test 4: Error handling - empty DataFrame\n",
    "print(\"\\n\" + \"=\"*80 + \"\\n\")\n",
    "print(\"🧪 TEST 4: ERROR HANDLING - Empty DataFrame\\n\")\n",
    "\n",
    "empty_df = pd.DataFrame()\n",
    "result4 = calculate_station_statistics(empty_df)\n",
    "print(f\"\\nResult shape: {result4.shape}\")"
   ]
  },
  {
   "cell_type": "code",
   "execution_count": null,
   "metadata": {},
   "outputs": [],
   "source": [
    "# Test 5: Error handling - missing columns\n",
    "print(\"\\n\" + \"=\"*80 + \"\\n\")\n",
    "print(\"🧪 TEST 5: ERROR HANDLING - Missing Columns\\n\")\n",
    "\n",
    "incomplete_df = df[['station_id', 'temperature_c']].copy()  # Missing humidity column\n",
    "result5 = calculate_station_statistics(incomplete_df)\n",
    "print(f\"\\nResult shape: {result5.shape}\")"
   ]
  },
  {
   "cell_type": "markdown",
   "metadata": {},
   "source": [
    "## 🔍 Step 11: Comparing Results\n",
    "\n",
    "Let's compare the statistics from different tests to understand the impact of filtering:"
   ]
  },
  {
   "cell_type": "code",
   "execution_count": null,
   "metadata": {},
   "outputs": [],
   "source": [
    "# Compare full dataset vs good quality only\n",
    "print(\"📊 COMPARISON: Full Dataset vs Good Quality Only\\n\")\n",
    "\n",
    "if not result1.empty and not result2.empty:\n",
    "    comparison = pd.merge(result1, result2, on='station_id', suffixes=('_all', '_good'))\n",
    "    \n",
    "    print(\"🔍 Temperature comparison:\")\n",
    "    comparison['temp_difference'] = comparison['avg_temperature_good'] - comparison['avg_temperature_all']\n",
    "    \n",
    "    for _, row in comparison.iterrows():\n",
    "        station = row['station_id']\n",
    "        temp_all = row['avg_temperature_all']\n",
    "        temp_good = row['avg_temperature_good']\n",
    "        diff = row['temp_difference']\n",
    "        \n",
    "        print(f\"   {station}: All data={temp_all}°C, Good only={temp_good}°C, Diff={diff:+.1f}°C\")\n",
    "        \n",
    "    print(\"\\n📋 Complete comparison table:\")\n",
    "    display(comparison)"
   ]
  },
  {
   "cell_type": "markdown",
   "metadata": {},
   "source": [
    "## 🎯 Your Assignment Task\n",
    "\n",
    "Now that you understand how this function works:\n",
    "\n",
    "1. **Go to `src/pandas_basics.py`**\n",
    "2. **Find the `calculate_station_statistics()` function**\n",
    "3. **Replace the TODO comments with your implementation**\n",
    "4. **Test your function with pytest**:\n",
    "\n",
    "```bash\n",
    "# Test just this function\n",
    "uv run pytest tests/test_pandas_basics.py::test_calculate_station_statistics -v\n",
    "\n",
    "# Test all functions so far\n",
    "uv run pytest tests/ -v\n",
    "```\n",
    "\n",
    "## 🔑 Key Learning Points\n",
    "\n",
    "- **GroupBy operations**: `df.groupby('column')` splits data into groups\n",
    "- **Aggregation functions**: `.mean()`, `.sum()`, `.count()`, `.size()`, `.std()`, etc.\n",
    "- **Multiple statistics**: Use `.agg()` with lists or dictionaries for multiple operations\n",
    "- **Finding extremes**:
